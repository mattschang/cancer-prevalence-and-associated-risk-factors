{
  "cells": [
    {
      "cell_type": "markdown",
      "metadata": {
        "id": "cay2F4di_zo4"
      },
      "source": [
        "Imports"
      ]
    },
    {
      "cell_type": "code",
      "execution_count": null,
      "metadata": {
        "id": "dx3-7h2qaUZ-"
      },
      "outputs": [],
      "source": [
        "import pandas as pd\n",
        "import plotly.express as px\n",
        "from plotly.subplots import make_subplots\n",
        "import plotly.graph_objects as go\n",
        "import matplotlib.pyplot as plt\n",
        "import numpy as np"
      ]
    },
    {
      "cell_type": "code",
      "execution_count": null,
      "metadata": {
        "id": "60nrHLFx-L_G"
      },
      "outputs": [],
      "source": [
        "# %pip install -U kaleido"
      ]
    },
    {
      "cell_type": "markdown",
      "metadata": {
        "id": "2WJrs6sZ_2hb"
      },
      "source": [
        "Creating and formating dataframes in the global scale"
      ]
    },
    {
      "cell_type": "code",
      "execution_count": null,
      "metadata": {
        "id": "YqzM5q7qhpHv"
      },
      "outputs": [],
      "source": [
        "def import_data():\n",
        "  \n",
        "  \"\"\"Function imports all 6 datasets and formats them by removing some rows, renaming some items, and splitting the data into multiple dataframes before returning it as 10 dataframes\"\"\"\n",
        "\n",
        "  cancer_data = pd.read_csv('/content/expanded_cancer_data.csv')\n",
        "  test_data = pd.read_csv('/content/shortened_cancer_data.csv')\n",
        "  unisex_population_data = pd.read_csv('/content/us_unisex_pop_est.csv')\n",
        "  fem_population_data = pd.read_csv('/content/us_fem_pop_est.csv')\n",
        "  male_population_data = pd.read_csv('/content/us_male_pop_est.csv')\n",
        "  sample_data = pd.read_csv('/content/samadult.csv')\n",
        "  \n",
        "  datasets = []\n",
        "\n",
        "  test_data = test_data[['Cancer Sites', 'Year', 'Sex Code', 'Age Groups', 'Count']]\n",
        "  female_test_data = test_data[test_data['Sex Code'] == 'F']\n",
        "  male_test_data = test_data[test_data['Sex Code'] == 'M']\n",
        "  datasets.append(test_data)\n",
        "  datasets.append(female_test_data)\n",
        "  datasets.append(male_test_data)\n",
        "\n",
        "  cancer_data = cancer_data[['Cancer Sites', 'Year', 'Sex Code', 'Age Groups', 'Count']]\n",
        "  female_cancer_data = cancer_data[cancer_data['Sex Code'] == 'F']\n",
        "  male_cancer_data = cancer_data[cancer_data['Sex Code'] == 'M']\n",
        "  datasets.append(cancer_data)\n",
        "  datasets.append(female_cancer_data)\n",
        "  datasets.append(male_cancer_data)\n",
        "\n",
        "  sample_adult_data = sample_data[['SEX', 'AGE_P', 'ALDURA29', 'ALDURB29', 'ALDURA12', 'ALDURB12', 'SMKREG', 'CIGSDA1','CIGDAMO', 'ECIGEV2', 'ECIGCUR2', 'ECIG30D2', 'ALC1YR',\n",
        "                                   'ALCAMT', 'ALCSTAT', 'ALC5UPY1', 'BINGE1', 'CNKIND1', 'CNKIND2', 'CNKIND3', 'CNKIND4', 'CNKIND5', 'CNKIND6', 'CNKIND7', 'CNKIND8', 'CNKIND9',  \n",
        "                                   'CNKIND10', 'CNKIND11', 'CNKIND12', 'CNKIND13', 'CNKIND14', 'CNKIND15', 'CNKIND16', 'CNKIND17', 'CNKIND18', 'CNKIND19', 'CNKIND20',\n",
        "                                   'CNKIND21', 'CNKIND22', 'CNKIND23', 'CNKIND24', 'CNKIND25', 'CNKIND26', 'CNKIND27', 'CNKIND28', 'CNKIND29', 'CNKIND30', 'SMKEV',\n",
        "                                   'CIGAREV2',  'PIPEV2', 'SMKLSTB1', 'CIGCUR2', 'PIPECUR2', 'SMKLSCR2', 'SMKNOW', 'SMKSTAT2']]\n",
        "  sample_adult_data = sample_adult_data[sample_adult_data['AGE_P'] < 50]\n",
        "  sample_adult_data['SEX'].replace({1: 'M', 2: 'F'}, inplace=True)\n",
        "  datasets.append(sample_adult_data)\n",
        "\n",
        "  unisex_population_data = unisex_population_data[['Unnamed: 0', '2000', '2001', '2002', '2003', '2004', \n",
        "                                                   '2005', '2006', '2007', '2008', '2009', '1-Jul-10', \n",
        "                                                   '2011', '2012', '2013', '2014', '7-Jul', '2016', \n",
        "                                                   '2017', '2018']]\n",
        "  unisex_population_data.rename(columns={'Unnamed: 0': 'Age Groups', '1-Jul-10': '2010', '7-Jul': '2015'}, inplace=True)\n",
        "  unisex_population_data = unisex_population_data.replace(['Under 5 years'],'0 to 4 years')\n",
        "  unisex_population_data = unisex_population_data.replace(['BOTH SEXES'], 'Totals')\n",
        "  unisex_population_data = unisex_population_data.dropna()\n",
        "  datasets.append(unisex_population_data)\n",
        "\n",
        "  fem_population_data = fem_population_data[['Unnamed: 0', '2000', '2001', '2002', \n",
        "                                             '2003', '2004', '2005', '2006', \n",
        "                                             '2007', '2008', '2009', '1-Jul-10', \n",
        "                                             '2011', '2012', '2013', '2014', \n",
        "                                             '2015', '2016', '2017', '2018']]\n",
        "  fem_population_data.rename(columns={'Unnamed: 0': 'Age Groups', '1-Jul-10':'2010'}, inplace=True)\n",
        "  fem_population_data = fem_population_data.replace(['Under 5 years'],'0 to 4 years')\n",
        "  fem_population_data = fem_population_data.replace(['FEMALE'], 'Totals')\n",
        "  fem_population_data = fem_population_data.dropna()\n",
        "  datasets.append(fem_population_data)\n",
        "\n",
        "  male_population_data = male_population_data[['Unnamed: 0', '2000', '2001', \n",
        "                                              '2002', '2003', '2004', '2005', \n",
        "                                               '2006', '2007', '2008', '2009', \n",
        "                                               '1-Jul-10', '2011', '2012', '2013',\n",
        "                                               '2014', '2015', '2016', '2017',\n",
        "                                               '2018']]\n",
        "  male_population_data.rename(columns={'Unnamed: 0': 'Age Groups', '1-Jul-10':'2010'}, inplace=True)\n",
        "  male_population_data = male_population_data.replace(['Under 5 years'],'0 to 4 years')\n",
        "  male_population_data = male_population_data.replace(['MALE'], 'Totals')\n",
        "  male_population_data = male_population_data.dropna()\n",
        "  datasets.append(male_population_data)\n",
        "\n",
        "\n",
        "  return datasets"
      ]
    },
    {
      "cell_type": "code",
      "execution_count": null,
      "metadata": {
        "id": "XQ0-MjNuZnD4"
      },
      "outputs": [],
      "source": [
        "def rename_age_groups(unisex_population_data, male_population_data, fem_population_data):\n",
        "  \"\"\"Takes the population data and renames the age groups to be the same as the age groups in the cancer data.\"\"\"\n",
        "\n",
        "  mp = male_population_data\n",
        "  fp = fem_population_data\n",
        "  up = unisex_population_data\n",
        "\n",
        "  all_age_groups = [x for x in mp['Age Groups']]\n",
        "  age_groups = [all_age_groups[0]]\n",
        "\n",
        "  r = 0\n",
        "  for group in all_age_groups[1:]:\n",
        "    r += 1\n",
        "    group = group[:-6]\n",
        "    group = group.replace(' to ', '-')\n",
        "    mp['Age Groups'][r] = group\n",
        "    fp['Age Groups'][r] = group\n",
        "    up['Age Groups'][r] = group\n",
        "\n",
        "  return (mp, up, fp)\n",
        "\n",
        "\n",
        "def append_frequency(male_pop_data, female_pop_data, cancer_data):\n",
        "  \"\"\"Takes male and female population data and uses it to append a frequency column to the cancer data, of the count of\n",
        "  that type of cancer divided by the population of people in the US of that age group of that sex in that year.\"\"\"\n",
        "  cd = cancer_data\n",
        "  mp = male_pop_data[:][:11]\n",
        "  fp = female_pop_data[:][:11]\n",
        "\n",
        "  mp.set_index('Age Groups', inplace=True)\n",
        "  fp.set_index('Age Groups', inplace=True)\n",
        "\n",
        "  cd = cd[(cd['Year'] > 1999)]\n",
        "  cd = cd[(cd['Age Groups'] != '< 1 year') & (cd['Age Groups'] != '1-4 years')]\n",
        "  cd = cd.dropna()\n",
        "  mp = mp.loc[:, mp.columns != '2019']\n",
        "  fp = fp.loc[:, fp.columns != '2019']\n",
        "\n",
        "  cd['Frequency'] = 0\n",
        "\n",
        "  for ind in cd.index:\n",
        "    ages = cd['Age Groups'][ind][:-6]\n",
        "    year = str(int(cd.loc[ind, 'Year']))\n",
        "    sex = cd.loc[ind, 'Sex Code']\n",
        "    fem_pop = int((fp.loc[ages, year]).replace(',', ''))\n",
        "    male_pop = int((mp.loc[ages, year]).replace(',', ''))\n",
        "    count = int(cd.loc[ind, 'Count'])\n",
        "    if sex == 'F':\n",
        "      cd.loc[ind, 'Frequency'] = count / fem_pop\n",
        "    if sex == 'M':\n",
        "      cd.loc[ind, 'Frequency'] = count / male_pop\n",
        "  \n",
        "  return cd"
      ]
    },
    {
      "cell_type": "markdown",
      "metadata": {
        "id": "maGFgVY7Tjud"
      },
      "source": [
        "TEST BLOCK. Run the following block after the three boxes above if youre testing. That'll make the datasets into global variables so you can acess them anywhere"
      ]
    },
    {
      "cell_type": "code",
      "execution_count": null,
      "metadata": {
        "colab": {
          "base_uri": "https://localhost:8080/"
        },
        "id": "5Fbn9zHiTgcN",
        "outputId": "0d17cfca-156b-4123-f4ec-384439fdbef7"
      },
      "outputs": [
        {
          "output_type": "stream",
          "name": "stdout",
          "text": [
            "data imports completed\n",
            "data formatting completed\n"
          ]
        }
      ],
      "source": [
        "datasets = import_data()\n",
        "test_data, female_test_data, male_test_data, cancer_data, female_cancer_data, male_cancer_data, sample_data, unisex_population_data, fem_population_data, male_population_data = datasets\n",
        "print('data imports completed')\n",
        "unisex_population_data, male_population_data, fem_population_data = rename_age_groups(unisex_population_data, male_population_data, fem_population_data)\n",
        "cancer_data = append_frequency(male_population_data, fem_population_data, cancer_data)\n",
        "print('data formatting completed')"
      ]
    },
    {
      "cell_type": "markdown",
      "metadata": {
        "id": "qu17OFggrb5w"
      },
      "source": [
        "Visualizations: Alcohol/Liver Cancer graph\n",
        "                Cancer prevelance over time\n",
        "                Smoking Cancer prevelance"
      ]
    },
    {
      "cell_type": "code",
      "execution_count": null,
      "metadata": {
        "id": "bZulIcUn_yrl"
      },
      "outputs": [],
      "source": [
        "def merging_male_and_female_pop(male_pop, female_pop):\n",
        "  \"\"\"\n",
        "  Returns the merged data set of male and female population counts with\n",
        "  with applicable rows.\n",
        "  \"\"\"\n",
        "\n",
        "  cancer_subset_ages_male = male_pop.iloc[0:11, :]\n",
        "  cancer_subset_ages_fem = female_pop.iloc[0:11, :]\n",
        "  merged = cancer_subset_ages_male.append(cancer_subset_ages_fem,\n",
        "                                          ignore_index=True)\n",
        "    \n",
        "  return merged"
      ]
    },
    {
      "cell_type": "code",
      "execution_count": null,
      "metadata": {
        "id": "DyECDWsBGxNm"
      },
      "outputs": [],
      "source": [
        "def cancer_prev(cancer_data):\n",
        "  \"\"\"\n",
        "  Returns series of frequencies based on each year by sum. Looks at all cancers\n",
        "  and cumulated prevalence from 2000-2018.\n",
        "  \"\"\"\n",
        "  \n",
        "  all_cancer = cancer_data[cancer_data['Cancer Sites'] == \n",
        "                           'All Invasive Cancer Sites Combined']\n",
        "  all_cancer_2000s = all_cancer[all_cancer['Year'] >= 2000]\n",
        "  all_cancer_summed_sex = all_cancer_2000s.groupby('Year')['Frequency'].sum()\n",
        "\n",
        "  return all_cancer_summed_sex\n",
        "\n",
        "\n",
        "def lung_cancer(cancer_data):\n",
        "  \"\"\"\n",
        "  Returns filtered cancer_data set with respect to lung cancer and the\n",
        "  applicable age groups\n",
        "  \"\"\"\n",
        "\n",
        "  lung_cancer = cancer_data[cancer_data['Cancer Sites'] == 'Lung and Bronchus']\n",
        "  lung_cancer.drop(lung_cancer[lung_cancer['Age Groups'] == \n",
        "                               '< 1 year'].index, inplace = True)\n",
        "  lung_cancer.drop(lung_cancer[lung_cancer['Age Groups'] == \n",
        "                               '1-4 years'].index, inplace = True)\n",
        "  lung_cancer.drop(lung_cancer[lung_cancer['Age Groups'] == \n",
        "                               '5-9 years'].index, inplace = True)\n",
        "\n",
        "  return lung_cancer\n",
        " \n",
        "\n",
        "def liver_cancer(cancer_data):\n",
        "  \"\"\"\n",
        "  Returns filtered cancer_data set with respect to liver cancer and the\n",
        "  applicable age groups\n",
        "  \"\"\"\n",
        "\n",
        "  liver_cancer = cancer_data[cancer_data['Cancer Sites'] == 'Liver']\n",
        "  liver_cancer.drop(liver_cancer[liver_cancer['Age Groups'] == \n",
        "                                 '< 1 year'].index, inplace = True)\n",
        "  liver_cancer.drop(liver_cancer[liver_cancer['Age Groups'] == \n",
        "                                 '1-4 years'].index, inplace = True)\n",
        "  liver_cancer.drop(liver_cancer[liver_cancer['Age Groups'] == \n",
        "                                 '5-9 years'].index, inplace = True)\n",
        "  liver_cancer.drop(liver_cancer[liver_cancer['Age Groups'] == \n",
        "                                 '10-14 years'].index, inplace = True)\n",
        "  liver_cancer.drop(liver_cancer[liver_cancer['Age Groups'] == \n",
        "                                 '15-19 years'].index, inplace = True)\n",
        "  liver_cancer.drop(liver_cancer[liver_cancer['Age Groups'] == \n",
        "                                 '20-24 years'].index, inplace = True)\n",
        "\n",
        "  return liver_cancer\n",
        "\n",
        " \n",
        "def plot_cancer_prev(grouped_cancer):\n",
        "  \"\"\" Plots cancer prevalence from 2000-2018 for people under 50 years old\n",
        "  \"\"\"\n",
        "\n",
        "  fig1 = px.line(grouped_cancer, \n",
        "                 title='Cancer Prevalence from 2000-2018 under 50 Years Old')\n",
        "\n",
        "  # fig1.write_image(\"Cancer-Trends.png\")\n",
        "  \n",
        "\n",
        "def plot_lung_cancer(lung_cancer):\n",
        "  \"\"\" Plots lung cancer frequency by year broken down by age groups and sex\n",
        "  \"\"\"\n",
        "\n",
        "  fig2 = px.area(lung_cancer, x=\"Year\", y=\"Frequency\", color=\"Sex Code\",\n",
        "                 facet_col=\"Age Groups\", facet_col_wrap=4,\n",
        "                category_orders={'Sex Code': ['F', 'M']},\n",
        "                 title='Lung Cancer Frequency by Age Group')\n",
        "  \n",
        "  # fig2.write_image(\"Lung-Cancer-Broken-Down.png\")\n",
        "  \n",
        "\n",
        "def plot_liver_cancer(liver_cancer):\n",
        "  \"\"\" Plots liver cancer frequency by year broken down by age groups and sex\n",
        "  \"\"\"\n",
        "\n",
        "  fig3 = px.area(liver_cancer, x=\"Year\", y=\"Frequency\", color=\"Sex Code\",\n",
        "                 facet_col=\"Age Groups\", facet_col_wrap=3,\n",
        "                category_orders={'Sex Code': ['F', 'M']},\n",
        "                 title='Liver Cancer Frequency by Age Group')\n",
        "  # fig3.write_image(\"Liver-Cancer-Broken-Down.png\")\n",
        "  \n",
        "  \n",
        "  \n",
        "\n"
      ]
    },
    {
      "cell_type": "markdown",
      "metadata": {
        "id": "ve1udwnTLFQn"
      },
      "source": [
        "ALCOHOL AS A RISK FACTOR FOR CANCER (Matt's Part)- The cancers associated with alcohol according to the National Cancer Insitute were selected from the NHIS 2018 sample data. "
      ]
    },
    {
      "cell_type": "markdown",
      "metadata": {
        "id": "4fIP1W82idp8"
      },
      "source": [
        "What type of cancer was most prevalent among the participants in the NHIS data?"
      ]
    },
    {
      "cell_type": "code",
      "execution_count": null,
      "metadata": {
        "id": "pyN86PGzite7"
      },
      "outputs": [],
      "source": [
        "def filter_for_cancer(data):\n",
        "  \"\"\"\n",
        "  Takes the NHIS csv data as a parameter, and returns a new dataset containing\n",
        "  the following columns: 'AGE_P', 'SEX', and 'CNKIND1-30'\n",
        "  \"\"\"\n",
        "  filtered_df = data.loc[:,'CNKIND1':'CNKIND30']\n",
        "  filtered_df = filtered_df.dropna(how='all')\n",
        "  return filtered_df\n",
        "\n",
        "def get_cancer_counts(filtered_data):\n",
        "  \"\"\"\n",
        "  Takes the filtered_data (via filter_for_cancer) and returns a new DataFrame\n",
        "  with two columns: 'Cancer Type' and 'Case Count'. The 'Cancer Type' column\n",
        "  holds the name of the cancer type (string) and the 'Case Count' column holds\n",
        "  the count of cases of the corresponding type of cancer.\n",
        "  \"\"\"\n",
        "  count_list = []\n",
        "  for cancer in list(filtered_data.columns):\n",
        "    case_filter = filtered_data[filtered_data[cancer] == 1.0]\n",
        "    count_list.append(case_filter[cancer].count())\n",
        "\n",
        "  cancer_list = ['Bladder', 'Blood', 'Bone', 'Brain', 'Breast', 'Cervix',\n",
        "                 'Colon', 'Esophagus', 'Gallbladder', 'Kidney',\n",
        "                 'Larynx-Windpipe', 'Leukemia', 'Liver', 'Lung', 'Lymphoma',\n",
        "                 'Melanoma', 'Mouth', 'Ovary', 'Pancreas', 'Prostate', 'Rectum',\n",
        "                 'Skin (non-melanoma)', 'Skin (DK kind)', 'Soft Tissue',\n",
        "                 'Stomach', 'Testis', 'Throat-Pharynx', 'Thyroid', 'Uterus',\n",
        "                 'Other']\n",
        "\n",
        "  cancer_count_dict = {'Cancer Type': cancer_list, 'Case Count': count_list}\n",
        "  cancer_count_df = pd.DataFrame(data=cancer_count_dict)\n",
        "  cancer_count_df = cancer_count_df.sort_values('Case Count', ascending=False)\n",
        "  cancer_count_df = cancer_count_df.reset_index(drop=True)\n",
        "\n",
        "  return cancer_count_df\n",
        "\n",
        "\n",
        "def get_cancer_count_bc(cancer_count_df):\n",
        "  \"\"\"\n",
        "  Takes as parameter the cancer_count_df (via get_cancer_counts) and returns a\n",
        "  bar chart comparing the counts of each cancer type from the 2018 NHIS US\n",
        "  Sample Data.\n",
        "  \"\"\"\n",
        "  fig = px.bar(cancer_count_df, x='Cancer Type', \n",
        "               y='Case Count',\n",
        "               labels={'value': 'Count'}, \n",
        "               title='Cancer Case Count for Each Cancer Type')\n",
        "  fig.update_layout(showlegend=False)\n",
        "  # fig.write_image('images/cancer-count-bc.png')\n",
        "  fig.show()\n"
      ]
    },
    {
      "cell_type": "code",
      "execution_count": null,
      "metadata": {
        "id": "J8Sucy2LLx8s"
      },
      "outputs": [],
      "source": [
        "def filter_cancer_by_alcstat(data):\n",
        "  \"\"\"\n",
        "  Takes the sample_data data as a parameter and returns a new DataFrame with\n",
        "  columns for alcohol-associated cancer types (according to NCI website) and the\n",
        "  ALCSTAT column. Returned DataFrame is also only includes data from\n",
        "  participants that 60 years or older.\n",
        "  \"\"\"\n",
        "  age_filter = data[data['AGE_P'] >= 60]\n",
        "  filtered_df = age_filter[['ALCSTAT','CNKIND5', 'CNKIND7', 'CNKIND8',\n",
        "                            'CNKIND11', 'CNKIND13', 'CNKIND21', 'CNKIND27']]\n",
        "  #unknown_one = filtered_df['ALCSTAT'] == 9\n",
        "  #unknown_two = filtered_df['ALCSTAT'] == 10\n",
        "  #unknown_three = filtered_df['ALCSTAT'] == 4\n",
        "  #filtered_df.drop(filtered_df[unknown_one | unknown_two | unknown_three].index, \n",
        "                   #inplace = True)\n",
        "  #filtered_df.reset_index(drop=True)\n",
        "  return filtered_df\n",
        "\n",
        "\n",
        "def get_cancer_freq_df(filtered_data):\n",
        "  \"\"\"\n",
        "  Takes as a parameter the filtered NHIS data (via get_cancer_by_alcstat) and\n",
        "  returns a DataFrame with frequencies of each type of alcohol-associated\n",
        "  cancer within each ALCSTAT group. Also has a column, 'Total Cancer', with the\n",
        "  total frequencies of all alcohol_associated cancers for each ALCSTAT group.\n",
        "  \"\"\"\n",
        "  alc_cancer = ['CNKIND5', 'CNKIND7', 'CNKIND8', 'CNKIND11', 'CNKIND13',\n",
        "              'CNKIND21', 'CNKIND27']\n",
        "  alc_status = [1, 2, 3, 5, 6, 7, 8]\n",
        "  \n",
        "  ckind_cols = []\n",
        "  for status in alc_status:\n",
        "    for cancer in alc_cancer:\n",
        "      status_filter = filtered_data['ALCSTAT'] == status\n",
        "      cancer_filter = filtered_data[cancer] == 1.0\n",
        "      ckind_count = len(filtered_data[status_filter & cancer_filter].index)\n",
        "      cancer_freq = ckind_count / len(filtered_data[status_filter].index)\n",
        "      ckind_cols.append(cancer_freq)\n",
        "\n",
        "  ckind = ['Breast', 'Colon', 'Esophagus', 'Larynx', 'Liver', 'Rectum',\n",
        "             'Throat/Pharynx']\n",
        "  alcstat = ['Lifetime Abstainer', 'Former Infrequent', 'Former Regular',\n",
        "           'Current Infrequent', 'Current Light', 'Current Moderate',\n",
        "           'Current Heavier']\n",
        "  \n",
        "  cancer_freq_array = np.array(ckind_cols).reshape(7, 7)\n",
        "  cancer_freq_df = pd.DataFrame(cancer_freq_array, columns=ckind)\n",
        "  cancer_freq_df['Total Cancer Frequency'] = cancer_freq_df[ckind].sum(axis=1)\n",
        "  cancer_freq_df.insert(0, 'Alcohol Drinking Status', alcstat)\n",
        "  \n",
        "  return cancer_freq_df\n",
        "\n",
        "\n",
        "def get_total_cancer_bc(cancer_freq_df):\n",
        "  \"\"\"\n",
        "  Takes as parameter the DataFrame formatted (via get_cancer_freq_df) for bar\n",
        "  chart plotting and returns a bar chart comparing the combined frequency of all\n",
        "  alcohol-associated cancers between each alcohol drinking status group.\n",
        "  \"\"\"\n",
        "  fig = px.bar(cancer_freq_df, x='Alcohol Drinking Status', \n",
        "               y=['Total Cancer Frequency'],\n",
        "               labels={'value': 'Cancer Frequency'}, \n",
        "               title='Total Cancer Frequency by Alcohol Drinking Status',\n",
        "               text_auto=True)\n",
        "  fig.update_traces(hovertemplate=None)\n",
        "  fig.update_layout(showlegend=False)\n",
        "  # fig.write_image('images/total-cancer-bc.png')\n",
        "  fig.show()\n",
        "\n",
        "\n",
        "def get_ckind_freq_bc(cancer_freq_df):\n",
        "  \"\"\"\n",
        "  Takes as parameter the DataFrame formatted (via get_cancer_freq_df) for bar\n",
        "  chart plotting and returns 7 subplotted bar charts. Each subplot represents\n",
        "  an alcohol drinking status group. Each subplot compares the frequencies of \n",
        "  each type of alcohol-associated cancers within an alcohol drinking status\n",
        "  group.\n",
        "  \"\"\"\n",
        "  ckind = ['Breast', 'Colon', 'Esophagus', 'Larynx', 'Liver', 'Rectum',\n",
        "           'Pharynx']\n",
        "  life_abs = cancer_freq_df.loc[0, 'Breast':'Throat/Pharynx'].values.tolist()\n",
        "  form_infreq = cancer_freq_df.loc[1, 'Breast':'Throat/Pharynx'].values.tolist()\n",
        "  form_reg = cancer_freq_df.loc[2, 'Breast':'Throat/Pharynx'].values.tolist()\n",
        "  curr_infreq = cancer_freq_df.loc[3, 'Breast':'Throat/Pharynx'].values.tolist()\n",
        "  curr_light = cancer_freq_df.loc[4, 'Breast':'Throat/Pharynx'].values.tolist()\n",
        "  curr_mod = cancer_freq_df.loc[5, 'Breast':'Throat/Pharynx'].values.tolist()\n",
        "  curr_heav = cancer_freq_df.loc[6, 'Breast':'Throat/Pharynx'].values.tolist()\n",
        "  \n",
        "  fig = make_subplots(rows=5, cols=3, x_title='Cancer Type',\n",
        "                      y_title='Frequency',\n",
        "                      subplot_titles=('Lifetime Abstainers',\n",
        "                                      'Former Infrequents',\n",
        "                                      'Former Regulars', '', '', '', \n",
        "                                      'Current Infrequents', 'Current Lights', \n",
        "                                      'Current Moderates', '', '', '',\n",
        "                                      'Current Heaviers'))\n",
        "  \n",
        "  fig.add_trace(go.Bar(x=ckind, y=life_abs), row=1, col=1)\n",
        "  fig.add_trace(go.Bar(x=ckind, y=form_infreq),row=1, col=2)\n",
        "  fig.add_trace(go.Bar(x=ckind, y=form_reg), row=1, col=3)\n",
        "  fig.add_trace(go.Bar(x=ckind, y=curr_infreq), row=3, col=1)\n",
        "  fig.add_trace(go.Bar(x=ckind, y=curr_light), row=3, col=2)\n",
        "  fig.add_trace(go.Bar(x=ckind, y=curr_mod), row=3, col=3)\n",
        "  fig.add_trace(go.Bar(x=ckind, y=curr_heav), row=5, col=1)\n",
        "\n",
        "  fig.update_yaxes(range=[0, 0.07], row=1, col=1)\n",
        "  fig.update_yaxes(range=[0, 0.07], row=1, col=2)\n",
        "  fig.update_yaxes(range=[0, 0.07], row=1, col=3)\n",
        "  fig.update_yaxes(range=[0, 0.07], row=3, col=1)\n",
        "  fig.update_yaxes(range=[0, 0.07], row=3, col=2)\n",
        "  fig.update_yaxes(range=[0, 0.07], row=3, col=3)\n",
        "  fig.update_yaxes(range=[0, 0.07], row=5, col=1)\n",
        "\n",
        "  fig.update_layout(title_text='Cancer Frequencies by Cancer Type',\n",
        "                    showlegend=False)\n",
        "  # fig.write_image('images/ckind-freq-bc.png')\n",
        "  fig.show()\n"
      ]
    },
    {
      "cell_type": "markdown",
      "metadata": {
        "id": "kDtKcUotCfk7"
      },
      "source": [
        "What type of risk factors contribute most to lung-related cancers\n",
        "\n",
        "Defined functions plots a bar graph of the relative frequencies of lung cancers consistent with various tobacco risk factors"
      ]
    },
    {
      "cell_type": "code",
      "execution_count": null,
      "metadata": {
        "id": "ETCuW0R8d9lL"
      },
      "outputs": [],
      "source": [
        "def tobacco_related_cancers(sample_data):\n",
        "  \"\"\"Appends a column to the sample data that describes if or if not the sample has any significantly tobacco-related cancers.\"\"\"\n",
        "  sd = sample_data\n",
        "  sd['Tobacco Cancers'] = 0\n",
        "  sd.loc[sd['CNKIND8'] == 1, 'Tobacco Cancers'] = 1\n",
        "  sd.loc[sd['CNKIND11'] == 1, 'Tobacco Cancers'] = 1\n",
        "  sd.loc[sd['CNKIND14'] == 1, 'Tobacco Cancers'] = 1\n",
        "  sd.loc[sd['CNKIND15'] == 1, 'Tobacco Cancers'] = 1\n",
        "  sd.loc[sd['CNKIND17'] == 1, 'Tobacco Cancers'] = 1\n",
        "  sd.loc[sd['CNKIND27'] == 1, 'Tobacco Cancers'] = 1\n",
        "\n",
        "  return sd\n",
        "\n",
        "def tobacco_cancers_by_risk_factors(sample_data):\n",
        "  \"\"\"Plots a bar graph describing the relative tobacco cancer freqeucneies based on a number or tobacco risk factors\"\"\"\n",
        "  sd = sample_data\n",
        "  labels = []\n",
        "  values = []\n",
        "  ever_smoked_cig = len((sd[(sd['Tobacco Cancers'] == 1) & (sd['SMKEV'] == 1)])) / len(sd[sd['SMKEV'] == 1])\n",
        "  ever_smoked_vape = len((sd[(sd['Tobacco Cancers'] == 1) & (sd['ECIGEV2'] == 1)])) / len(sd[sd['ECIGEV2'] == 1])\n",
        "  ever_smoked_cigar = len((sd[(sd['Tobacco Cancers'] == 1) & (sd['CIGAREV2'] == 1)])) / len(sd[sd['CIGAREV2'] == 1])\n",
        "  ever_smoked_pipe = len((sd[(sd['Tobacco Cancers'] == 1) & (sd['PIPEV2'] == 1)])) /  len(sd[sd['PIPEV2'] == 1])\n",
        "  ever_smokeless = len((sd[(sd['Tobacco Cancers'] == 1) & (sd['SMKLSTB1'] == 1)])) / len(sd[sd['SMKLSTB1'] == 1])\n",
        "  curr_smoke = len((sd[(sd['Tobacco Cancers'] == 1) & (sd['SMKNOW'] <= 2)])) / len(sd[sd['SMKNOW'] <= 2])\n",
        "  smoke_vape_curr = len((sd[(sd['Tobacco Cancers'] == 1) & (sd['ECIGCUR2'] <= 2)])) / len(sd[sd['ECIGCUR2'] <= 2])\n",
        "  smoke_cigar_curr = len((sd[(sd['Tobacco Cancers'] == 1) & (sd['CIGCUR2'] <= 2)])) /  len(sd[sd['CIGCUR2'] <= 2])\n",
        "  smoke_pipe_curr = len((sd[(sd['Tobacco Cancers'] == 1) & (sd['PIPECUR2'] <= 2)])) /  len(sd[sd['PIPECUR2'] <= 2])\n",
        "  smokeless_curr = len((sd[(sd['Tobacco Cancers'] == 1) & (sd['SMKLSCR2'] <= 2)])) /  len(sd[sd['SMKLSCR2'] <= 2])\n",
        "\n",
        "  labels = ['Ever Smoked Cigarettes', 'Ever Vaped', 'Ever Smoked Cigars', 'Ever Smoked Pipe',\n",
        "            'Ever Used Smokeless Tobacco', 'Regularly Smoke Cigarettes', 'Regularly Vapes',\n",
        "            'Regularly Smokes Cigars', 'Regularly Smokes Pipe', 'Regularly Uses Smokeless Tobacco']\n",
        "  values = [ever_smoked_cig, ever_smoked_vape, ever_smoked_cigar, ever_smoked_pipe, ever_smokeless,\n",
        "            curr_smoke, smoke_vape_curr, smoke_cigar_curr, smoke_pipe_curr, smokeless_curr]\n",
        "\n",
        "\n",
        "  fig = plt.figure(figsize = (16, 9))\n",
        "  ax = fig.add_axes([0,0,1,1])\n",
        "  ax.barh(labels[:10], values[:10], color='b')\n",
        "  ax.set_title('Relative Frequencies of Tobacco Cancers Based on Risk Factors',\n",
        "             loc ='center')\n",
        "  plt.xlabel('Frequency')\n",
        "  plt.savefig('Tobacco Risk Factors vs Cancer Frequency')\n",
        "  plt.show()"
      ]
    },
    {
      "cell_type": "code",
      "source": [
        "def test_tobacco_related_cancers(data):\n",
        "  \"\"\"\n",
        "  Takes in the DataFrame returned by tobacco_related_cancers and checks if the\n",
        "  number of rows is greater than one.\n",
        "  \"\"\"\n",
        "  assert len(data.index) > 1"
      ],
      "metadata": {
        "id": "VII-mi5qvGNF"
      },
      "execution_count": null,
      "outputs": []
    },
    {
      "cell_type": "code",
      "source": [
        "# def test_append_frequency(unisex_population_data, male_pop_data, female_pop_data, test_data):\n",
        "\n",
        "  # unisex_population_data, test_m_pop_data, test_f_pop_data, = rename_age_groups(male_pop_data, female_pop_data, test_data)\n",
        "\n",
        "  # tested_freq_df = append_frequency(test_m_pop_data, test_f_pop_data, test_data)\n",
        "  # print(tested_freq_df)"
      ],
      "metadata": {
        "id": "Q9J5mCLtERWF"
      },
      "execution_count": null,
      "outputs": []
    },
    {
      "cell_type": "code",
      "execution_count": null,
      "metadata": {
        "id": "FFOK41kaHWPB"
      },
      "outputs": [],
      "source": [
        "def main():\n",
        "\n",
        "  # importing and formatting data\n",
        "  datasets = import_data()\n",
        "  test_data, female_test_data, male_test_data, cancer_data, female_cancer_data, male_cancer_data, sample_data, unisex_population_data, fem_population_data, male_population_data = datasets\n",
        "  print('data imports completed')\n",
        "  \n",
        "  unisex_population_data, male_population_data, fem_population_data = rename_age_groups(unisex_population_data, male_population_data, fem_population_data)\n",
        "  cancer_data = append_frequency(male_population_data, fem_population_data, cancer_data)\n",
        "  print('data formatting completed')\n",
        "\n",
        "\n",
        "  # cancer prevalence\n",
        "  merged = merging_male_and_female_pop(male_population_data, fem_population_data)\n",
        "  grouped_cancer = cancer_prev(cancer_data)\n",
        "  lung_cancer_df = lung_cancer(cancer_data)\n",
        "  liver_cancer_df = liver_cancer(cancer_data)\n",
        "  plot_cancer_prev(grouped_cancer)\n",
        "  plot_lung_cancer(lung_cancer_df)\n",
        "  plot_liver_cancer(liver_cancer_df)\n",
        "\n",
        "  \n",
        "  # alcohol research stuff\n",
        "  sample_data = pd.read_csv('/content/samadult.csv')\n",
        "  filtered_data = filter_cancer_by_alcstat(sample_data)\n",
        "  cancer_freq_df = get_cancer_freq_df(filtered_data)\n",
        "  get_total_cancer_bc(cancer_freq_df)\n",
        "  get_ckind_freq_bc(cancer_freq_df)\n",
        "\n",
        "\n",
        "  # lung cancers based on tobacco risk factors\n",
        "  tobacco_cancers = tobacco_related_cancers(sample_data)\n",
        "  tobacco_cancers_by_risk_factors(tobacco_cancers)\n",
        "\n",
        "  # testing dataframe returned by tobacco_related cancer\n",
        "  test_tobacco_related_cancers(tobacco_cancers)\n",
        "  # test_append_frequency(unisex_population_data, male_test_data, female_test_data, test_data)\n",
        "\n",
        "  # most common cancer in nhis data stuff\n",
        "  nhis_cancer_data = filter_for_cancer(sample_data)\n",
        "  cancer_count_df = get_cancer_counts(nhis_cancer_data)\n",
        "  get_cancer_count_bc(cancer_count_df)"
      ]
    },
    {
      "cell_type": "code",
      "execution_count": null,
      "metadata": {
        "colab": {
          "base_uri": "https://localhost:8080/",
          "height": 1000
        },
        "id": "yUPmilj7Hsv6",
        "outputId": "d0b609aa-daa7-4393-c97e-ab3bfc5b8f68"
      },
      "outputs": [
        {
          "output_type": "stream",
          "name": "stdout",
          "text": [
            "data imports completed\n"
          ]
        },
        {
          "output_type": "stream",
          "name": "stderr",
          "text": [
            "/usr/local/lib/python3.7/dist-packages/ipykernel_launcher.py:17: SettingWithCopyWarning:\n",
            "\n",
            "\n",
            "A value is trying to be set on a copy of a slice from a DataFrame\n",
            "\n",
            "See the caveats in the documentation: https://pandas.pydata.org/pandas-docs/stable/user_guide/indexing.html#returning-a-view-versus-a-copy\n",
            "\n",
            "/usr/local/lib/python3.7/dist-packages/pandas/core/indexing.py:1724: SettingWithCopyWarning:\n",
            "\n",
            "\n",
            "A value is trying to be set on a copy of a slice from a DataFrame\n",
            "\n",
            "See the caveats in the documentation: https://pandas.pydata.org/pandas-docs/stable/user_guide/indexing.html#returning-a-view-versus-a-copy\n",
            "\n"
          ]
        },
        {
          "output_type": "stream",
          "name": "stdout",
          "text": [
            "data formatting completed\n"
          ]
        },
        {
          "output_type": "stream",
          "name": "stderr",
          "text": [
            "/usr/local/lib/python3.7/dist-packages/pandas/core/frame.py:4913: SettingWithCopyWarning:\n",
            "\n",
            "\n",
            "A value is trying to be set on a copy of a slice from a DataFrame\n",
            "\n",
            "See the caveats in the documentation: https://pandas.pydata.org/pandas-docs/stable/user_guide/indexing.html#returning-a-view-versus-a-copy\n",
            "\n"
          ]
        },
        {
          "output_type": "display_data",
          "data": {
            "text/html": [
              "<html>\n",
              "<head><meta charset=\"utf-8\" /></head>\n",
              "<body>\n",
              "    <div>            <script src=\"https://cdnjs.cloudflare.com/ajax/libs/mathjax/2.7.5/MathJax.js?config=TeX-AMS-MML_SVG\"></script><script type=\"text/javascript\">if (window.MathJax) {MathJax.Hub.Config({SVG: {font: \"STIX-Web\"}});}</script>                <script type=\"text/javascript\">window.PlotlyConfig = {MathJaxConfig: 'local'};</script>\n",
              "        <script src=\"https://cdn.plot.ly/plotly-2.8.3.min.js\"></script>                <div id=\"a9b2429a-5d16-4122-8af0-f8e2920979bd\" class=\"plotly-graph-div\" style=\"height:525px; width:100%;\"></div>            <script type=\"text/javascript\">                                    window.PLOTLYENV=window.PLOTLYENV || {};                                    if (document.getElementById(\"a9b2429a-5d16-4122-8af0-f8e2920979bd\")) {                    Plotly.newPlot(                        \"a9b2429a-5d16-4122-8af0-f8e2920979bd\",                        [{\"alignmentgroup\":\"True\",\"legendgroup\":\"Total Cancer Frequency\",\"marker\":{\"color\":\"#636efa\",\"pattern\":{\"shape\":\"\"}},\"name\":\"Total Cancer Frequency\",\"offsetgroup\":\"Total Cancer Frequency\",\"orientation\":\"v\",\"showlegend\":true,\"textposition\":\"auto\",\"texttemplate\":\"%{y}\",\"x\":[\"Lifetime Abstainer\",\"Former Infrequent\",\"Former Regular\",\"Current Infrequent\",\"Current Light\",\"Current Moderate\",\"Current Heavier\"],\"xaxis\":\"x\",\"y\":[0.08653846153846154,0.08564814814814815,0.05894736842105262,0.08313349320543564,0.07508992805755395,0.05135730007336758,0.062360801781737196],\"yaxis\":\"y\",\"type\":\"bar\"}],                        {\"template\":{\"data\":{\"bar\":[{\"error_x\":{\"color\":\"#2a3f5f\"},\"error_y\":{\"color\":\"#2a3f5f\"},\"marker\":{\"line\":{\"color\":\"#E5ECF6\",\"width\":0.5},\"pattern\":{\"fillmode\":\"overlay\",\"size\":10,\"solidity\":0.2}},\"type\":\"bar\"}],\"barpolar\":[{\"marker\":{\"line\":{\"color\":\"#E5ECF6\",\"width\":0.5},\"pattern\":{\"fillmode\":\"overlay\",\"size\":10,\"solidity\":0.2}},\"type\":\"barpolar\"}],\"carpet\":[{\"aaxis\":{\"endlinecolor\":\"#2a3f5f\",\"gridcolor\":\"white\",\"linecolor\":\"white\",\"minorgridcolor\":\"white\",\"startlinecolor\":\"#2a3f5f\"},\"baxis\":{\"endlinecolor\":\"#2a3f5f\",\"gridcolor\":\"white\",\"linecolor\":\"white\",\"minorgridcolor\":\"white\",\"startlinecolor\":\"#2a3f5f\"},\"type\":\"carpet\"}],\"choropleth\":[{\"colorbar\":{\"outlinewidth\":0,\"ticks\":\"\"},\"type\":\"choropleth\"}],\"contour\":[{\"colorbar\":{\"outlinewidth\":0,\"ticks\":\"\"},\"colorscale\":[[0.0,\"#0d0887\"],[0.1111111111111111,\"#46039f\"],[0.2222222222222222,\"#7201a8\"],[0.3333333333333333,\"#9c179e\"],[0.4444444444444444,\"#bd3786\"],[0.5555555555555556,\"#d8576b\"],[0.6666666666666666,\"#ed7953\"],[0.7777777777777778,\"#fb9f3a\"],[0.8888888888888888,\"#fdca26\"],[1.0,\"#f0f921\"]],\"type\":\"contour\"}],\"contourcarpet\":[{\"colorbar\":{\"outlinewidth\":0,\"ticks\":\"\"},\"type\":\"contourcarpet\"}],\"heatmap\":[{\"colorbar\":{\"outlinewidth\":0,\"ticks\":\"\"},\"colorscale\":[[0.0,\"#0d0887\"],[0.1111111111111111,\"#46039f\"],[0.2222222222222222,\"#7201a8\"],[0.3333333333333333,\"#9c179e\"],[0.4444444444444444,\"#bd3786\"],[0.5555555555555556,\"#d8576b\"],[0.6666666666666666,\"#ed7953\"],[0.7777777777777778,\"#fb9f3a\"],[0.8888888888888888,\"#fdca26\"],[1.0,\"#f0f921\"]],\"type\":\"heatmap\"}],\"heatmapgl\":[{\"colorbar\":{\"outlinewidth\":0,\"ticks\":\"\"},\"colorscale\":[[0.0,\"#0d0887\"],[0.1111111111111111,\"#46039f\"],[0.2222222222222222,\"#7201a8\"],[0.3333333333333333,\"#9c179e\"],[0.4444444444444444,\"#bd3786\"],[0.5555555555555556,\"#d8576b\"],[0.6666666666666666,\"#ed7953\"],[0.7777777777777778,\"#fb9f3a\"],[0.8888888888888888,\"#fdca26\"],[1.0,\"#f0f921\"]],\"type\":\"heatmapgl\"}],\"histogram\":[{\"marker\":{\"pattern\":{\"fillmode\":\"overlay\",\"size\":10,\"solidity\":0.2}},\"type\":\"histogram\"}],\"histogram2d\":[{\"colorbar\":{\"outlinewidth\":0,\"ticks\":\"\"},\"colorscale\":[[0.0,\"#0d0887\"],[0.1111111111111111,\"#46039f\"],[0.2222222222222222,\"#7201a8\"],[0.3333333333333333,\"#9c179e\"],[0.4444444444444444,\"#bd3786\"],[0.5555555555555556,\"#d8576b\"],[0.6666666666666666,\"#ed7953\"],[0.7777777777777778,\"#fb9f3a\"],[0.8888888888888888,\"#fdca26\"],[1.0,\"#f0f921\"]],\"type\":\"histogram2d\"}],\"histogram2dcontour\":[{\"colorbar\":{\"outlinewidth\":0,\"ticks\":\"\"},\"colorscale\":[[0.0,\"#0d0887\"],[0.1111111111111111,\"#46039f\"],[0.2222222222222222,\"#7201a8\"],[0.3333333333333333,\"#9c179e\"],[0.4444444444444444,\"#bd3786\"],[0.5555555555555556,\"#d8576b\"],[0.6666666666666666,\"#ed7953\"],[0.7777777777777778,\"#fb9f3a\"],[0.8888888888888888,\"#fdca26\"],[1.0,\"#f0f921\"]],\"type\":\"histogram2dcontour\"}],\"mesh3d\":[{\"colorbar\":{\"outlinewidth\":0,\"ticks\":\"\"},\"type\":\"mesh3d\"}],\"parcoords\":[{\"line\":{\"colorbar\":{\"outlinewidth\":0,\"ticks\":\"\"}},\"type\":\"parcoords\"}],\"pie\":[{\"automargin\":true,\"type\":\"pie\"}],\"scatter\":[{\"marker\":{\"colorbar\":{\"outlinewidth\":0,\"ticks\":\"\"}},\"type\":\"scatter\"}],\"scatter3d\":[{\"line\":{\"colorbar\":{\"outlinewidth\":0,\"ticks\":\"\"}},\"marker\":{\"colorbar\":{\"outlinewidth\":0,\"ticks\":\"\"}},\"type\":\"scatter3d\"}],\"scattercarpet\":[{\"marker\":{\"colorbar\":{\"outlinewidth\":0,\"ticks\":\"\"}},\"type\":\"scattercarpet\"}],\"scattergeo\":[{\"marker\":{\"colorbar\":{\"outlinewidth\":0,\"ticks\":\"\"}},\"type\":\"scattergeo\"}],\"scattergl\":[{\"marker\":{\"colorbar\":{\"outlinewidth\":0,\"ticks\":\"\"}},\"type\":\"scattergl\"}],\"scattermapbox\":[{\"marker\":{\"colorbar\":{\"outlinewidth\":0,\"ticks\":\"\"}},\"type\":\"scattermapbox\"}],\"scatterpolar\":[{\"marker\":{\"colorbar\":{\"outlinewidth\":0,\"ticks\":\"\"}},\"type\":\"scatterpolar\"}],\"scatterpolargl\":[{\"marker\":{\"colorbar\":{\"outlinewidth\":0,\"ticks\":\"\"}},\"type\":\"scatterpolargl\"}],\"scatterternary\":[{\"marker\":{\"colorbar\":{\"outlinewidth\":0,\"ticks\":\"\"}},\"type\":\"scatterternary\"}],\"surface\":[{\"colorbar\":{\"outlinewidth\":0,\"ticks\":\"\"},\"colorscale\":[[0.0,\"#0d0887\"],[0.1111111111111111,\"#46039f\"],[0.2222222222222222,\"#7201a8\"],[0.3333333333333333,\"#9c179e\"],[0.4444444444444444,\"#bd3786\"],[0.5555555555555556,\"#d8576b\"],[0.6666666666666666,\"#ed7953\"],[0.7777777777777778,\"#fb9f3a\"],[0.8888888888888888,\"#fdca26\"],[1.0,\"#f0f921\"]],\"type\":\"surface\"}],\"table\":[{\"cells\":{\"fill\":{\"color\":\"#EBF0F8\"},\"line\":{\"color\":\"white\"}},\"header\":{\"fill\":{\"color\":\"#C8D4E3\"},\"line\":{\"color\":\"white\"}},\"type\":\"table\"}]},\"layout\":{\"annotationdefaults\":{\"arrowcolor\":\"#2a3f5f\",\"arrowhead\":0,\"arrowwidth\":1},\"autotypenumbers\":\"strict\",\"coloraxis\":{\"colorbar\":{\"outlinewidth\":0,\"ticks\":\"\"}},\"colorscale\":{\"diverging\":[[0,\"#8e0152\"],[0.1,\"#c51b7d\"],[0.2,\"#de77ae\"],[0.3,\"#f1b6da\"],[0.4,\"#fde0ef\"],[0.5,\"#f7f7f7\"],[0.6,\"#e6f5d0\"],[0.7,\"#b8e186\"],[0.8,\"#7fbc41\"],[0.9,\"#4d9221\"],[1,\"#276419\"]],\"sequential\":[[0.0,\"#0d0887\"],[0.1111111111111111,\"#46039f\"],[0.2222222222222222,\"#7201a8\"],[0.3333333333333333,\"#9c179e\"],[0.4444444444444444,\"#bd3786\"],[0.5555555555555556,\"#d8576b\"],[0.6666666666666666,\"#ed7953\"],[0.7777777777777778,\"#fb9f3a\"],[0.8888888888888888,\"#fdca26\"],[1.0,\"#f0f921\"]],\"sequentialminus\":[[0.0,\"#0d0887\"],[0.1111111111111111,\"#46039f\"],[0.2222222222222222,\"#7201a8\"],[0.3333333333333333,\"#9c179e\"],[0.4444444444444444,\"#bd3786\"],[0.5555555555555556,\"#d8576b\"],[0.6666666666666666,\"#ed7953\"],[0.7777777777777778,\"#fb9f3a\"],[0.8888888888888888,\"#fdca26\"],[1.0,\"#f0f921\"]]},\"colorway\":[\"#636efa\",\"#EF553B\",\"#00cc96\",\"#ab63fa\",\"#FFA15A\",\"#19d3f3\",\"#FF6692\",\"#B6E880\",\"#FF97FF\",\"#FECB52\"],\"font\":{\"color\":\"#2a3f5f\"},\"geo\":{\"bgcolor\":\"white\",\"lakecolor\":\"white\",\"landcolor\":\"#E5ECF6\",\"showlakes\":true,\"showland\":true,\"subunitcolor\":\"white\"},\"hoverlabel\":{\"align\":\"left\"},\"hovermode\":\"closest\",\"mapbox\":{\"style\":\"light\"},\"paper_bgcolor\":\"white\",\"plot_bgcolor\":\"#E5ECF6\",\"polar\":{\"angularaxis\":{\"gridcolor\":\"white\",\"linecolor\":\"white\",\"ticks\":\"\"},\"bgcolor\":\"#E5ECF6\",\"radialaxis\":{\"gridcolor\":\"white\",\"linecolor\":\"white\",\"ticks\":\"\"}},\"scene\":{\"xaxis\":{\"backgroundcolor\":\"#E5ECF6\",\"gridcolor\":\"white\",\"gridwidth\":2,\"linecolor\":\"white\",\"showbackground\":true,\"ticks\":\"\",\"zerolinecolor\":\"white\"},\"yaxis\":{\"backgroundcolor\":\"#E5ECF6\",\"gridcolor\":\"white\",\"gridwidth\":2,\"linecolor\":\"white\",\"showbackground\":true,\"ticks\":\"\",\"zerolinecolor\":\"white\"},\"zaxis\":{\"backgroundcolor\":\"#E5ECF6\",\"gridcolor\":\"white\",\"gridwidth\":2,\"linecolor\":\"white\",\"showbackground\":true,\"ticks\":\"\",\"zerolinecolor\":\"white\"}},\"shapedefaults\":{\"line\":{\"color\":\"#2a3f5f\"}},\"ternary\":{\"aaxis\":{\"gridcolor\":\"white\",\"linecolor\":\"white\",\"ticks\":\"\"},\"baxis\":{\"gridcolor\":\"white\",\"linecolor\":\"white\",\"ticks\":\"\"},\"bgcolor\":\"#E5ECF6\",\"caxis\":{\"gridcolor\":\"white\",\"linecolor\":\"white\",\"ticks\":\"\"}},\"title\":{\"x\":0.05},\"xaxis\":{\"automargin\":true,\"gridcolor\":\"white\",\"linecolor\":\"white\",\"ticks\":\"\",\"title\":{\"standoff\":15},\"zerolinecolor\":\"white\",\"zerolinewidth\":2},\"yaxis\":{\"automargin\":true,\"gridcolor\":\"white\",\"linecolor\":\"white\",\"ticks\":\"\",\"title\":{\"standoff\":15},\"zerolinecolor\":\"white\",\"zerolinewidth\":2}}},\"xaxis\":{\"anchor\":\"y\",\"domain\":[0.0,1.0],\"title\":{\"text\":\"Alcohol Drinking Status\"}},\"yaxis\":{\"anchor\":\"x\",\"domain\":[0.0,1.0],\"title\":{\"text\":\"Cancer Frequency\"}},\"legend\":{\"title\":{\"text\":\"variable\"},\"tracegroupgap\":0},\"title\":{\"text\":\"Total Cancer Frequency by Alcohol Drinking Status\"},\"barmode\":\"relative\",\"showlegend\":false},                        {\"responsive\": true}                    ).then(function(){\n",
              "                            \n",
              "var gd = document.getElementById('a9b2429a-5d16-4122-8af0-f8e2920979bd');\n",
              "var x = new MutationObserver(function (mutations, observer) {{\n",
              "        var display = window.getComputedStyle(gd).display;\n",
              "        if (!display || display === 'none') {{\n",
              "            console.log([gd, 'removed!']);\n",
              "            Plotly.purge(gd);\n",
              "            observer.disconnect();\n",
              "        }}\n",
              "}});\n",
              "\n",
              "// Listen for the removal of the full notebook cells\n",
              "var notebookContainer = gd.closest('#notebook-container');\n",
              "if (notebookContainer) {{\n",
              "    x.observe(notebookContainer, {childList: true});\n",
              "}}\n",
              "\n",
              "// Listen for the clearing of the current output cell\n",
              "var outputEl = gd.closest('.output');\n",
              "if (outputEl) {{\n",
              "    x.observe(outputEl, {childList: true});\n",
              "}}\n",
              "\n",
              "                        })                };                            </script>        </div>\n",
              "</body>\n",
              "</html>"
            ]
          },
          "metadata": {}
        },
        {
          "output_type": "display_data",
          "data": {
            "text/html": [
              "<html>\n",
              "<head><meta charset=\"utf-8\" /></head>\n",
              "<body>\n",
              "    <div>            <script src=\"https://cdnjs.cloudflare.com/ajax/libs/mathjax/2.7.5/MathJax.js?config=TeX-AMS-MML_SVG\"></script><script type=\"text/javascript\">if (window.MathJax) {MathJax.Hub.Config({SVG: {font: \"STIX-Web\"}});}</script>                <script type=\"text/javascript\">window.PlotlyConfig = {MathJaxConfig: 'local'};</script>\n",
              "        <script src=\"https://cdn.plot.ly/plotly-2.8.3.min.js\"></script>                <div id=\"cac9246a-b064-412b-b771-008ebba53d45\" class=\"plotly-graph-div\" style=\"height:525px; width:100%;\"></div>            <script type=\"text/javascript\">                                    window.PLOTLYENV=window.PLOTLYENV || {};                                    if (document.getElementById(\"cac9246a-b064-412b-b771-008ebba53d45\")) {                    Plotly.newPlot(                        \"cac9246a-b064-412b-b771-008ebba53d45\",                        [{\"x\":[\"Breast\",\"Colon\",\"Esophagus\",\"Larynx\",\"Liver\",\"Rectum\",\"Pharynx\"],\"y\":[0.06578947368421052,0.014676113360323886,0.0015182186234817814,0.0,0.0015182186234817814,0.0015182186234817814,0.0015182186234817814],\"type\":\"bar\",\"xaxis\":\"x\",\"yaxis\":\"y\"},{\"x\":[\"Breast\",\"Colon\",\"Esophagus\",\"Larynx\",\"Liver\",\"Rectum\",\"Pharynx\"],\"y\":[0.05015432098765432,0.02546296296296296,0.0030864197530864196,0.0007716049382716049,0.0015432098765432098,0.0015432098765432098,0.0030864197530864196],\"type\":\"bar\",\"xaxis\":\"x2\",\"yaxis\":\"y2\"},{\"x\":[\"Breast\",\"Colon\",\"Esophagus\",\"Larynx\",\"Liver\",\"Rectum\",\"Pharynx\"],\"y\":[0.034736842105263156,0.008421052631578947,0.008421052631578947,0.0010526315789473684,0.0010526315789473684,0.0010526315789473684,0.004210526315789474],\"type\":\"bar\",\"xaxis\":\"x3\",\"yaxis\":\"y3\"},{\"x\":[\"Breast\",\"Colon\",\"Esophagus\",\"Larynx\",\"Liver\",\"Rectum\",\"Pharynx\"],\"y\":[0.058353317346123104,0.016786570743405275,0.0007993605115907274,0.0,0.0015987210231814548,0.002398081534772182,0.0031974420463629096],\"type\":\"bar\",\"xaxis\":\"x7\",\"yaxis\":\"y7\"},{\"x\":[\"Breast\",\"Colon\",\"Esophagus\",\"Larynx\",\"Liver\",\"Rectum\",\"Pharynx\"],\"y\":[0.05710431654676259,0.01079136690647482,0.0004496402877697842,0.0017985611510791368,0.0004496402877697842,0.0013489208633093526,0.003147482014388489],\"type\":\"bar\",\"xaxis\":\"x8\",\"yaxis\":\"y8\"},{\"x\":[\"Breast\",\"Colon\",\"Esophagus\",\"Larynx\",\"Liver\",\"Rectum\",\"Pharynx\"],\"y\":[0.03008070432868672,0.015407190022010272,0.0022010271460014674,0.0,0.0007336757153338225,0.0007336757153338225,0.0022010271460014674],\"type\":\"bar\",\"xaxis\":\"x9\",\"yaxis\":\"y9\"},{\"x\":[\"Breast\",\"Colon\",\"Esophagus\",\"Larynx\",\"Liver\",\"Rectum\",\"Pharynx\"],\"y\":[0.053452115812917596,0.008908685968819599,0.0,0.0,0.0,0.0,0.0],\"type\":\"bar\",\"xaxis\":\"x13\",\"yaxis\":\"y13\"}],                        {\"template\":{\"data\":{\"bar\":[{\"error_x\":{\"color\":\"#2a3f5f\"},\"error_y\":{\"color\":\"#2a3f5f\"},\"marker\":{\"line\":{\"color\":\"#E5ECF6\",\"width\":0.5},\"pattern\":{\"fillmode\":\"overlay\",\"size\":10,\"solidity\":0.2}},\"type\":\"bar\"}],\"barpolar\":[{\"marker\":{\"line\":{\"color\":\"#E5ECF6\",\"width\":0.5},\"pattern\":{\"fillmode\":\"overlay\",\"size\":10,\"solidity\":0.2}},\"type\":\"barpolar\"}],\"carpet\":[{\"aaxis\":{\"endlinecolor\":\"#2a3f5f\",\"gridcolor\":\"white\",\"linecolor\":\"white\",\"minorgridcolor\":\"white\",\"startlinecolor\":\"#2a3f5f\"},\"baxis\":{\"endlinecolor\":\"#2a3f5f\",\"gridcolor\":\"white\",\"linecolor\":\"white\",\"minorgridcolor\":\"white\",\"startlinecolor\":\"#2a3f5f\"},\"type\":\"carpet\"}],\"choropleth\":[{\"colorbar\":{\"outlinewidth\":0,\"ticks\":\"\"},\"type\":\"choropleth\"}],\"contour\":[{\"colorbar\":{\"outlinewidth\":0,\"ticks\":\"\"},\"colorscale\":[[0.0,\"#0d0887\"],[0.1111111111111111,\"#46039f\"],[0.2222222222222222,\"#7201a8\"],[0.3333333333333333,\"#9c179e\"],[0.4444444444444444,\"#bd3786\"],[0.5555555555555556,\"#d8576b\"],[0.6666666666666666,\"#ed7953\"],[0.7777777777777778,\"#fb9f3a\"],[0.8888888888888888,\"#fdca26\"],[1.0,\"#f0f921\"]],\"type\":\"contour\"}],\"contourcarpet\":[{\"colorbar\":{\"outlinewidth\":0,\"ticks\":\"\"},\"type\":\"contourcarpet\"}],\"heatmap\":[{\"colorbar\":{\"outlinewidth\":0,\"ticks\":\"\"},\"colorscale\":[[0.0,\"#0d0887\"],[0.1111111111111111,\"#46039f\"],[0.2222222222222222,\"#7201a8\"],[0.3333333333333333,\"#9c179e\"],[0.4444444444444444,\"#bd3786\"],[0.5555555555555556,\"#d8576b\"],[0.6666666666666666,\"#ed7953\"],[0.7777777777777778,\"#fb9f3a\"],[0.8888888888888888,\"#fdca26\"],[1.0,\"#f0f921\"]],\"type\":\"heatmap\"}],\"heatmapgl\":[{\"colorbar\":{\"outlinewidth\":0,\"ticks\":\"\"},\"colorscale\":[[0.0,\"#0d0887\"],[0.1111111111111111,\"#46039f\"],[0.2222222222222222,\"#7201a8\"],[0.3333333333333333,\"#9c179e\"],[0.4444444444444444,\"#bd3786\"],[0.5555555555555556,\"#d8576b\"],[0.6666666666666666,\"#ed7953\"],[0.7777777777777778,\"#fb9f3a\"],[0.8888888888888888,\"#fdca26\"],[1.0,\"#f0f921\"]],\"type\":\"heatmapgl\"}],\"histogram\":[{\"marker\":{\"pattern\":{\"fillmode\":\"overlay\",\"size\":10,\"solidity\":0.2}},\"type\":\"histogram\"}],\"histogram2d\":[{\"colorbar\":{\"outlinewidth\":0,\"ticks\":\"\"},\"colorscale\":[[0.0,\"#0d0887\"],[0.1111111111111111,\"#46039f\"],[0.2222222222222222,\"#7201a8\"],[0.3333333333333333,\"#9c179e\"],[0.4444444444444444,\"#bd3786\"],[0.5555555555555556,\"#d8576b\"],[0.6666666666666666,\"#ed7953\"],[0.7777777777777778,\"#fb9f3a\"],[0.8888888888888888,\"#fdca26\"],[1.0,\"#f0f921\"]],\"type\":\"histogram2d\"}],\"histogram2dcontour\":[{\"colorbar\":{\"outlinewidth\":0,\"ticks\":\"\"},\"colorscale\":[[0.0,\"#0d0887\"],[0.1111111111111111,\"#46039f\"],[0.2222222222222222,\"#7201a8\"],[0.3333333333333333,\"#9c179e\"],[0.4444444444444444,\"#bd3786\"],[0.5555555555555556,\"#d8576b\"],[0.6666666666666666,\"#ed7953\"],[0.7777777777777778,\"#fb9f3a\"],[0.8888888888888888,\"#fdca26\"],[1.0,\"#f0f921\"]],\"type\":\"histogram2dcontour\"}],\"mesh3d\":[{\"colorbar\":{\"outlinewidth\":0,\"ticks\":\"\"},\"type\":\"mesh3d\"}],\"parcoords\":[{\"line\":{\"colorbar\":{\"outlinewidth\":0,\"ticks\":\"\"}},\"type\":\"parcoords\"}],\"pie\":[{\"automargin\":true,\"type\":\"pie\"}],\"scatter\":[{\"marker\":{\"colorbar\":{\"outlinewidth\":0,\"ticks\":\"\"}},\"type\":\"scatter\"}],\"scatter3d\":[{\"line\":{\"colorbar\":{\"outlinewidth\":0,\"ticks\":\"\"}},\"marker\":{\"colorbar\":{\"outlinewidth\":0,\"ticks\":\"\"}},\"type\":\"scatter3d\"}],\"scattercarpet\":[{\"marker\":{\"colorbar\":{\"outlinewidth\":0,\"ticks\":\"\"}},\"type\":\"scattercarpet\"}],\"scattergeo\":[{\"marker\":{\"colorbar\":{\"outlinewidth\":0,\"ticks\":\"\"}},\"type\":\"scattergeo\"}],\"scattergl\":[{\"marker\":{\"colorbar\":{\"outlinewidth\":0,\"ticks\":\"\"}},\"type\":\"scattergl\"}],\"scattermapbox\":[{\"marker\":{\"colorbar\":{\"outlinewidth\":0,\"ticks\":\"\"}},\"type\":\"scattermapbox\"}],\"scatterpolar\":[{\"marker\":{\"colorbar\":{\"outlinewidth\":0,\"ticks\":\"\"}},\"type\":\"scatterpolar\"}],\"scatterpolargl\":[{\"marker\":{\"colorbar\":{\"outlinewidth\":0,\"ticks\":\"\"}},\"type\":\"scatterpolargl\"}],\"scatterternary\":[{\"marker\":{\"colorbar\":{\"outlinewidth\":0,\"ticks\":\"\"}},\"type\":\"scatterternary\"}],\"surface\":[{\"colorbar\":{\"outlinewidth\":0,\"ticks\":\"\"},\"colorscale\":[[0.0,\"#0d0887\"],[0.1111111111111111,\"#46039f\"],[0.2222222222222222,\"#7201a8\"],[0.3333333333333333,\"#9c179e\"],[0.4444444444444444,\"#bd3786\"],[0.5555555555555556,\"#d8576b\"],[0.6666666666666666,\"#ed7953\"],[0.7777777777777778,\"#fb9f3a\"],[0.8888888888888888,\"#fdca26\"],[1.0,\"#f0f921\"]],\"type\":\"surface\"}],\"table\":[{\"cells\":{\"fill\":{\"color\":\"#EBF0F8\"},\"line\":{\"color\":\"white\"}},\"header\":{\"fill\":{\"color\":\"#C8D4E3\"},\"line\":{\"color\":\"white\"}},\"type\":\"table\"}]},\"layout\":{\"annotationdefaults\":{\"arrowcolor\":\"#2a3f5f\",\"arrowhead\":0,\"arrowwidth\":1},\"autotypenumbers\":\"strict\",\"coloraxis\":{\"colorbar\":{\"outlinewidth\":0,\"ticks\":\"\"}},\"colorscale\":{\"diverging\":[[0,\"#8e0152\"],[0.1,\"#c51b7d\"],[0.2,\"#de77ae\"],[0.3,\"#f1b6da\"],[0.4,\"#fde0ef\"],[0.5,\"#f7f7f7\"],[0.6,\"#e6f5d0\"],[0.7,\"#b8e186\"],[0.8,\"#7fbc41\"],[0.9,\"#4d9221\"],[1,\"#276419\"]],\"sequential\":[[0.0,\"#0d0887\"],[0.1111111111111111,\"#46039f\"],[0.2222222222222222,\"#7201a8\"],[0.3333333333333333,\"#9c179e\"],[0.4444444444444444,\"#bd3786\"],[0.5555555555555556,\"#d8576b\"],[0.6666666666666666,\"#ed7953\"],[0.7777777777777778,\"#fb9f3a\"],[0.8888888888888888,\"#fdca26\"],[1.0,\"#f0f921\"]],\"sequentialminus\":[[0.0,\"#0d0887\"],[0.1111111111111111,\"#46039f\"],[0.2222222222222222,\"#7201a8\"],[0.3333333333333333,\"#9c179e\"],[0.4444444444444444,\"#bd3786\"],[0.5555555555555556,\"#d8576b\"],[0.6666666666666666,\"#ed7953\"],[0.7777777777777778,\"#fb9f3a\"],[0.8888888888888888,\"#fdca26\"],[1.0,\"#f0f921\"]]},\"colorway\":[\"#636efa\",\"#EF553B\",\"#00cc96\",\"#ab63fa\",\"#FFA15A\",\"#19d3f3\",\"#FF6692\",\"#B6E880\",\"#FF97FF\",\"#FECB52\"],\"font\":{\"color\":\"#2a3f5f\"},\"geo\":{\"bgcolor\":\"white\",\"lakecolor\":\"white\",\"landcolor\":\"#E5ECF6\",\"showlakes\":true,\"showland\":true,\"subunitcolor\":\"white\"},\"hoverlabel\":{\"align\":\"left\"},\"hovermode\":\"closest\",\"mapbox\":{\"style\":\"light\"},\"paper_bgcolor\":\"white\",\"plot_bgcolor\":\"#E5ECF6\",\"polar\":{\"angularaxis\":{\"gridcolor\":\"white\",\"linecolor\":\"white\",\"ticks\":\"\"},\"bgcolor\":\"#E5ECF6\",\"radialaxis\":{\"gridcolor\":\"white\",\"linecolor\":\"white\",\"ticks\":\"\"}},\"scene\":{\"xaxis\":{\"backgroundcolor\":\"#E5ECF6\",\"gridcolor\":\"white\",\"gridwidth\":2,\"linecolor\":\"white\",\"showbackground\":true,\"ticks\":\"\",\"zerolinecolor\":\"white\"},\"yaxis\":{\"backgroundcolor\":\"#E5ECF6\",\"gridcolor\":\"white\",\"gridwidth\":2,\"linecolor\":\"white\",\"showbackground\":true,\"ticks\":\"\",\"zerolinecolor\":\"white\"},\"zaxis\":{\"backgroundcolor\":\"#E5ECF6\",\"gridcolor\":\"white\",\"gridwidth\":2,\"linecolor\":\"white\",\"showbackground\":true,\"ticks\":\"\",\"zerolinecolor\":\"white\"}},\"shapedefaults\":{\"line\":{\"color\":\"#2a3f5f\"}},\"ternary\":{\"aaxis\":{\"gridcolor\":\"white\",\"linecolor\":\"white\",\"ticks\":\"\"},\"baxis\":{\"gridcolor\":\"white\",\"linecolor\":\"white\",\"ticks\":\"\"},\"bgcolor\":\"#E5ECF6\",\"caxis\":{\"gridcolor\":\"white\",\"linecolor\":\"white\",\"ticks\":\"\"}},\"title\":{\"x\":0.05},\"xaxis\":{\"automargin\":true,\"gridcolor\":\"white\",\"linecolor\":\"white\",\"ticks\":\"\",\"title\":{\"standoff\":15},\"zerolinecolor\":\"white\",\"zerolinewidth\":2},\"yaxis\":{\"automargin\":true,\"gridcolor\":\"white\",\"linecolor\":\"white\",\"ticks\":\"\",\"title\":{\"standoff\":15},\"zerolinecolor\":\"white\",\"zerolinewidth\":2}}},\"xaxis\":{\"anchor\":\"y\",\"domain\":[0.0,0.2888888888888889]},\"yaxis\":{\"anchor\":\"x\",\"domain\":[0.88,1.0],\"range\":[0,0.07]},\"xaxis2\":{\"anchor\":\"y2\",\"domain\":[0.35555555555555557,0.6444444444444445]},\"yaxis2\":{\"anchor\":\"x2\",\"domain\":[0.88,1.0],\"range\":[0,0.07]},\"xaxis3\":{\"anchor\":\"y3\",\"domain\":[0.7111111111111111,1.0]},\"yaxis3\":{\"anchor\":\"x3\",\"domain\":[0.88,1.0],\"range\":[0,0.07]},\"xaxis4\":{\"anchor\":\"y4\",\"domain\":[0.0,0.2888888888888889]},\"yaxis4\":{\"anchor\":\"x4\",\"domain\":[0.66,0.78]},\"xaxis5\":{\"anchor\":\"y5\",\"domain\":[0.35555555555555557,0.6444444444444445]},\"yaxis5\":{\"anchor\":\"x5\",\"domain\":[0.66,0.78]},\"xaxis6\":{\"anchor\":\"y6\",\"domain\":[0.7111111111111111,1.0]},\"yaxis6\":{\"anchor\":\"x6\",\"domain\":[0.66,0.78]},\"xaxis7\":{\"anchor\":\"y7\",\"domain\":[0.0,0.2888888888888889]},\"yaxis7\":{\"anchor\":\"x7\",\"domain\":[0.44,0.56],\"range\":[0,0.07]},\"xaxis8\":{\"anchor\":\"y8\",\"domain\":[0.35555555555555557,0.6444444444444445]},\"yaxis8\":{\"anchor\":\"x8\",\"domain\":[0.44,0.56],\"range\":[0,0.07]},\"xaxis9\":{\"anchor\":\"y9\",\"domain\":[0.7111111111111111,1.0]},\"yaxis9\":{\"anchor\":\"x9\",\"domain\":[0.44,0.56],\"range\":[0,0.07]},\"xaxis10\":{\"anchor\":\"y10\",\"domain\":[0.0,0.2888888888888889]},\"yaxis10\":{\"anchor\":\"x10\",\"domain\":[0.22,0.33999999999999997]},\"xaxis11\":{\"anchor\":\"y11\",\"domain\":[0.35555555555555557,0.6444444444444445]},\"yaxis11\":{\"anchor\":\"x11\",\"domain\":[0.22,0.33999999999999997]},\"xaxis12\":{\"anchor\":\"y12\",\"domain\":[0.7111111111111111,1.0]},\"yaxis12\":{\"anchor\":\"x12\",\"domain\":[0.22,0.33999999999999997]},\"xaxis13\":{\"anchor\":\"y13\",\"domain\":[0.0,0.2888888888888889]},\"yaxis13\":{\"anchor\":\"x13\",\"domain\":[0.0,0.12],\"range\":[0,0.07]},\"xaxis14\":{\"anchor\":\"y14\",\"domain\":[0.35555555555555557,0.6444444444444445]},\"yaxis14\":{\"anchor\":\"x14\",\"domain\":[0.0,0.12]},\"xaxis15\":{\"anchor\":\"y15\",\"domain\":[0.7111111111111111,1.0]},\"yaxis15\":{\"anchor\":\"x15\",\"domain\":[0.0,0.12]},\"annotations\":[{\"font\":{\"size\":16},\"showarrow\":false,\"text\":\"Lifetime Abstainers\",\"x\":0.14444444444444446,\"xanchor\":\"center\",\"xref\":\"paper\",\"y\":1.0,\"yanchor\":\"bottom\",\"yref\":\"paper\"},{\"font\":{\"size\":16},\"showarrow\":false,\"text\":\"Former Infrequents\",\"x\":0.5,\"xanchor\":\"center\",\"xref\":\"paper\",\"y\":1.0,\"yanchor\":\"bottom\",\"yref\":\"paper\"},{\"font\":{\"size\":16},\"showarrow\":false,\"text\":\"Former Regulars\",\"x\":0.8555555555555556,\"xanchor\":\"center\",\"xref\":\"paper\",\"y\":1.0,\"yanchor\":\"bottom\",\"yref\":\"paper\"},{\"font\":{\"size\":16},\"showarrow\":false,\"text\":\"Current Infrequents\",\"x\":0.14444444444444446,\"xanchor\":\"center\",\"xref\":\"paper\",\"y\":0.56,\"yanchor\":\"bottom\",\"yref\":\"paper\"},{\"font\":{\"size\":16},\"showarrow\":false,\"text\":\"Current Lights\",\"x\":0.5,\"xanchor\":\"center\",\"xref\":\"paper\",\"y\":0.56,\"yanchor\":\"bottom\",\"yref\":\"paper\"},{\"font\":{\"size\":16},\"showarrow\":false,\"text\":\"Current Moderates\",\"x\":0.8555555555555556,\"xanchor\":\"center\",\"xref\":\"paper\",\"y\":0.56,\"yanchor\":\"bottom\",\"yref\":\"paper\"},{\"font\":{\"size\":16},\"showarrow\":false,\"text\":\"Current Heaviers\",\"x\":0.14444444444444446,\"xanchor\":\"center\",\"xref\":\"paper\",\"y\":0.12,\"yanchor\":\"bottom\",\"yref\":\"paper\"},{\"font\":{\"size\":16},\"showarrow\":false,\"text\":\"Cancer Type\",\"x\":0.5,\"xanchor\":\"center\",\"xref\":\"paper\",\"y\":0,\"yanchor\":\"top\",\"yref\":\"paper\",\"yshift\":-30},{\"font\":{\"size\":16},\"showarrow\":false,\"text\":\"Frequency\",\"textangle\":-90,\"x\":0,\"xanchor\":\"right\",\"xref\":\"paper\",\"xshift\":-40,\"y\":0.5,\"yanchor\":\"middle\",\"yref\":\"paper\"}],\"title\":{\"text\":\"Cancer Frequencies by Cancer Type\"},\"showlegend\":false},                        {\"responsive\": true}                    ).then(function(){\n",
              "                            \n",
              "var gd = document.getElementById('cac9246a-b064-412b-b771-008ebba53d45');\n",
              "var x = new MutationObserver(function (mutations, observer) {{\n",
              "        var display = window.getComputedStyle(gd).display;\n",
              "        if (!display || display === 'none') {{\n",
              "            console.log([gd, 'removed!']);\n",
              "            Plotly.purge(gd);\n",
              "            observer.disconnect();\n",
              "        }}\n",
              "}});\n",
              "\n",
              "// Listen for the removal of the full notebook cells\n",
              "var notebookContainer = gd.closest('#notebook-container');\n",
              "if (notebookContainer) {{\n",
              "    x.observe(notebookContainer, {childList: true});\n",
              "}}\n",
              "\n",
              "// Listen for the clearing of the current output cell\n",
              "var outputEl = gd.closest('.output');\n",
              "if (outputEl) {{\n",
              "    x.observe(outputEl, {childList: true});\n",
              "}}\n",
              "\n",
              "                        })                };                            </script>        </div>\n",
              "</body>\n",
              "</html>"
            ]
          },
          "metadata": {}
        },
        {
          "output_type": "display_data",
          "data": {
            "text/plain": [
              "<Figure size 1152x648 with 1 Axes>"
            ],
            "image/png": "[encoded data removed]"
          },
          "metadata": {
            "needs_background": "light"
          }
        },
        {
          "output_type": "stream",
          "name": "stderr",
          "text": [
            "/usr/local/lib/python3.7/dist-packages/ipykernel_launcher.py:16: SettingWithCopyWarning:\n",
            "\n",
            "\n",
            "A value is trying to be set on a copy of a slice from a DataFrame\n",
            "\n",
            "See the caveats in the documentation: https://pandas.pydata.org/pandas-docs/stable/user_guide/indexing.html#returning-a-view-versus-a-copy\n",
            "\n",
            "/usr/local/lib/python3.7/dist-packages/ipykernel_launcher.py:18: SettingWithCopyWarning:\n",
            "\n",
            "\n",
            "A value is trying to be set on a copy of a slice from a DataFrame\n",
            "\n",
            "See the caveats in the documentation: https://pandas.pydata.org/pandas-docs/stable/user_guide/indexing.html#returning-a-view-versus-a-copy\n",
            "\n"
          ]
        },
        {
          "output_type": "error",
          "ename": "KeyError",
          "evalue": "ignored",
          "traceback": [
            "\u001b[0;31m---------------------------------------------------------------------------\u001b[0m",
            "\u001b[0;31mKeyError\u001b[0m                                  Traceback (most recent call last)",
            "\u001b[0;32m/usr/local/lib/python3.7/dist-packages/pandas/core/indexes/base.py\u001b[0m in \u001b[0;36mget_loc\u001b[0;34m(self, key, method, tolerance)\u001b[0m\n\u001b[1;32m   3360\u001b[0m             \u001b[0;32mtry\u001b[0m\u001b[0;34m:\u001b[0m\u001b[0;34m\u001b[0m\u001b[0;34m\u001b[0m\u001b[0m\n\u001b[0;32m-> 3361\u001b[0;31m                 \u001b[0;32mreturn\u001b[0m \u001b[0mself\u001b[0m\u001b[0;34m.\u001b[0m\u001b[0m_engine\u001b[0m\u001b[0;34m.\u001b[0m\u001b[0mget_loc\u001b[0m\u001b[0;34m(\u001b[0m\u001b[0mcasted_key\u001b[0m\u001b[0;34m)\u001b[0m\u001b[0;34m\u001b[0m\u001b[0;34m\u001b[0m\u001b[0m\n\u001b[0m\u001b[1;32m   3362\u001b[0m             \u001b[0;32mexcept\u001b[0m \u001b[0mKeyError\u001b[0m \u001b[0;32mas\u001b[0m \u001b[0merr\u001b[0m\u001b[0;34m:\u001b[0m\u001b[0;34m\u001b[0m\u001b[0;34m\u001b[0m\u001b[0m\n",
            "\u001b[0;32m/usr/local/lib/python3.7/dist-packages/pandas/_libs/index.pyx\u001b[0m in \u001b[0;36mpandas._libs.index.IndexEngine.get_loc\u001b[0;34m()\u001b[0m\n",
            "\u001b[0;32m/usr/local/lib/python3.7/dist-packages/pandas/_libs/index.pyx\u001b[0m in \u001b[0;36mpandas._libs.index.IndexEngine.get_loc\u001b[0;34m()\u001b[0m\n",
            "\u001b[0;32mpandas/_libs/hashtable_class_helper.pxi\u001b[0m in \u001b[0;36mpandas._libs.hashtable.PyObjectHashTable.get_item\u001b[0;34m()\u001b[0m\n",
            "\u001b[0;32mpandas/_libs/hashtable_class_helper.pxi\u001b[0m in \u001b[0;36mpandas._libs.hashtable.PyObjectHashTable.get_item\u001b[0;34m()\u001b[0m\n",
            "\u001b[0;31mKeyError\u001b[0m: ''",
            "\nThe above exception was the direct cause of the following exception:\n",
            "\u001b[0;31mKeyError\u001b[0m                                  Traceback (most recent call last)",
            "\u001b[0;32m<ipython-input-29-174f78df48e2>\u001b[0m in \u001b[0;36m<module>\u001b[0;34m()\u001b[0m\n\u001b[1;32m      1\u001b[0m \u001b[0;32mif\u001b[0m \u001b[0m__name__\u001b[0m \u001b[0;34m==\u001b[0m \u001b[0;34m'__main__'\u001b[0m\u001b[0;34m:\u001b[0m\u001b[0;34m\u001b[0m\u001b[0;34m\u001b[0m\u001b[0m\n\u001b[0;32m----> 2\u001b[0;31m   \u001b[0mmain\u001b[0m\u001b[0;34m(\u001b[0m\u001b[0;34m)\u001b[0m\u001b[0;34m\u001b[0m\u001b[0;34m\u001b[0m\u001b[0m\n\u001b[0m",
            "\u001b[0;32m<ipython-input-28-747169d89490>\u001b[0m in \u001b[0;36mmain\u001b[0;34m()\u001b[0m\n\u001b[1;32m     35\u001b[0m   \u001b[0;31m# testing dataframe returned by tobacco_related cancer\u001b[0m\u001b[0;34m\u001b[0m\u001b[0;34m\u001b[0m\u001b[0;34m\u001b[0m\u001b[0m\n\u001b[1;32m     36\u001b[0m   \u001b[0mtest_tobacco_related_cancers\u001b[0m\u001b[0;34m(\u001b[0m\u001b[0mtobacco_cancers\u001b[0m\u001b[0;34m)\u001b[0m\u001b[0;34m\u001b[0m\u001b[0;34m\u001b[0m\u001b[0m\n\u001b[0;32m---> 37\u001b[0;31m   \u001b[0mtest_append_frequency\u001b[0m\u001b[0;34m(\u001b[0m\u001b[0munisex_population_data\u001b[0m\u001b[0;34m,\u001b[0m \u001b[0mmale_test_data\u001b[0m\u001b[0;34m,\u001b[0m \u001b[0mfemale_test_data\u001b[0m\u001b[0;34m,\u001b[0m \u001b[0mtest_data\u001b[0m\u001b[0;34m)\u001b[0m\u001b[0;34m\u001b[0m\u001b[0;34m\u001b[0m\u001b[0m\n\u001b[0m\u001b[1;32m     38\u001b[0m \u001b[0;34m\u001b[0m\u001b[0m\n\u001b[1;32m     39\u001b[0m   \u001b[0;31m# most common cancer in nhis data stuff\u001b[0m\u001b[0;34m\u001b[0m\u001b[0;34m\u001b[0m\u001b[0;34m\u001b[0m\u001b[0m\n",
            "\u001b[0;32m<ipython-input-27-3a8b28cefa1d>\u001b[0m in \u001b[0;36mtest_append_frequency\u001b[0;34m(unisex_population_data, male_pop_data, female_pop_data, test_data)\u001b[0m\n\u001b[1;32m      3\u001b[0m   \u001b[0munisex_population_data\u001b[0m\u001b[0;34m,\u001b[0m \u001b[0mtest_m_pop_data\u001b[0m\u001b[0;34m,\u001b[0m \u001b[0mtest_f_pop_data\u001b[0m\u001b[0;34m,\u001b[0m \u001b[0;34m=\u001b[0m \u001b[0mrename_age_groups\u001b[0m\u001b[0;34m(\u001b[0m\u001b[0mmale_pop_data\u001b[0m\u001b[0;34m,\u001b[0m \u001b[0mfemale_pop_data\u001b[0m\u001b[0;34m,\u001b[0m \u001b[0mtest_data\u001b[0m\u001b[0;34m)\u001b[0m\u001b[0;34m\u001b[0m\u001b[0;34m\u001b[0m\u001b[0m\n\u001b[1;32m      4\u001b[0m \u001b[0;34m\u001b[0m\u001b[0m\n\u001b[0;32m----> 5\u001b[0;31m   \u001b[0mtested_freq_df\u001b[0m \u001b[0;34m=\u001b[0m \u001b[0mappend_frequency\u001b[0m\u001b[0;34m(\u001b[0m\u001b[0mtest_m_pop_data\u001b[0m\u001b[0;34m,\u001b[0m \u001b[0mtest_f_pop_data\u001b[0m\u001b[0;34m,\u001b[0m \u001b[0mtest_data\u001b[0m\u001b[0;34m)\u001b[0m\u001b[0;34m\u001b[0m\u001b[0;34m\u001b[0m\u001b[0m\n\u001b[0m\u001b[1;32m      6\u001b[0m   \u001b[0mprint\u001b[0m\u001b[0;34m(\u001b[0m\u001b[0mtested_freq_df\u001b[0m\u001b[0;34m)\u001b[0m\u001b[0;34m\u001b[0m\u001b[0;34m\u001b[0m\u001b[0m\n",
            "\u001b[0;32m<ipython-input-21-47d91eecd0d8>\u001b[0m in \u001b[0;36mappend_frequency\u001b[0;34m(male_pop_data, female_pop_data, cancer_data)\u001b[0m\n\u001b[1;32m     43\u001b[0m     \u001b[0myear\u001b[0m \u001b[0;34m=\u001b[0m \u001b[0mstr\u001b[0m\u001b[0;34m(\u001b[0m\u001b[0mint\u001b[0m\u001b[0;34m(\u001b[0m\u001b[0mcd\u001b[0m\u001b[0;34m.\u001b[0m\u001b[0mloc\u001b[0m\u001b[0;34m[\u001b[0m\u001b[0mind\u001b[0m\u001b[0;34m,\u001b[0m \u001b[0;34m'Year'\u001b[0m\u001b[0;34m]\u001b[0m\u001b[0;34m)\u001b[0m\u001b[0;34m)\u001b[0m\u001b[0;34m\u001b[0m\u001b[0;34m\u001b[0m\u001b[0m\n\u001b[1;32m     44\u001b[0m     \u001b[0msex\u001b[0m \u001b[0;34m=\u001b[0m \u001b[0mcd\u001b[0m\u001b[0;34m.\u001b[0m\u001b[0mloc\u001b[0m\u001b[0;34m[\u001b[0m\u001b[0mind\u001b[0m\u001b[0;34m,\u001b[0m \u001b[0;34m'Sex Code'\u001b[0m\u001b[0;34m]\u001b[0m\u001b[0;34m\u001b[0m\u001b[0;34m\u001b[0m\u001b[0m\n\u001b[0;32m---> 45\u001b[0;31m     \u001b[0mfem_pop\u001b[0m \u001b[0;34m=\u001b[0m \u001b[0mint\u001b[0m\u001b[0;34m(\u001b[0m\u001b[0;34m(\u001b[0m\u001b[0mfp\u001b[0m\u001b[0;34m.\u001b[0m\u001b[0mloc\u001b[0m\u001b[0;34m[\u001b[0m\u001b[0mages\u001b[0m\u001b[0;34m,\u001b[0m \u001b[0myear\u001b[0m\u001b[0;34m]\u001b[0m\u001b[0;34m)\u001b[0m\u001b[0;34m.\u001b[0m\u001b[0mreplace\u001b[0m\u001b[0;34m(\u001b[0m\u001b[0;34m','\u001b[0m\u001b[0;34m,\u001b[0m \u001b[0;34m''\u001b[0m\u001b[0;34m)\u001b[0m\u001b[0;34m)\u001b[0m\u001b[0;34m\u001b[0m\u001b[0;34m\u001b[0m\u001b[0m\n\u001b[0m\u001b[1;32m     46\u001b[0m     \u001b[0mmale_pop\u001b[0m \u001b[0;34m=\u001b[0m \u001b[0mint\u001b[0m\u001b[0;34m(\u001b[0m\u001b[0;34m(\u001b[0m\u001b[0mmp\u001b[0m\u001b[0;34m.\u001b[0m\u001b[0mloc\u001b[0m\u001b[0;34m[\u001b[0m\u001b[0mages\u001b[0m\u001b[0;34m,\u001b[0m \u001b[0myear\u001b[0m\u001b[0;34m]\u001b[0m\u001b[0;34m)\u001b[0m\u001b[0;34m.\u001b[0m\u001b[0mreplace\u001b[0m\u001b[0;34m(\u001b[0m\u001b[0;34m','\u001b[0m\u001b[0;34m,\u001b[0m \u001b[0;34m''\u001b[0m\u001b[0;34m)\u001b[0m\u001b[0;34m)\u001b[0m\u001b[0;34m\u001b[0m\u001b[0;34m\u001b[0m\u001b[0m\n\u001b[1;32m     47\u001b[0m     \u001b[0mcount\u001b[0m \u001b[0;34m=\u001b[0m \u001b[0mint\u001b[0m\u001b[0;34m(\u001b[0m\u001b[0mcd\u001b[0m\u001b[0;34m.\u001b[0m\u001b[0mloc\u001b[0m\u001b[0;34m[\u001b[0m\u001b[0mind\u001b[0m\u001b[0;34m,\u001b[0m \u001b[0;34m'Count'\u001b[0m\u001b[0;34m]\u001b[0m\u001b[0;34m)\u001b[0m\u001b[0;34m\u001b[0m\u001b[0;34m\u001b[0m\u001b[0m\n",
            "\u001b[0;32m/usr/local/lib/python3.7/dist-packages/pandas/core/indexing.py\u001b[0m in \u001b[0;36m__getitem__\u001b[0;34m(self, key)\u001b[0m\n\u001b[1;32m    923\u001b[0m                 \u001b[0;32mwith\u001b[0m \u001b[0msuppress\u001b[0m\u001b[0;34m(\u001b[0m\u001b[0mKeyError\u001b[0m\u001b[0;34m,\u001b[0m \u001b[0mIndexError\u001b[0m\u001b[0;34m)\u001b[0m\u001b[0;34m:\u001b[0m\u001b[0;34m\u001b[0m\u001b[0;34m\u001b[0m\u001b[0m\n\u001b[1;32m    924\u001b[0m                     \u001b[0;32mreturn\u001b[0m \u001b[0mself\u001b[0m\u001b[0;34m.\u001b[0m\u001b[0mobj\u001b[0m\u001b[0;34m.\u001b[0m\u001b[0m_get_value\u001b[0m\u001b[0;34m(\u001b[0m\u001b[0;34m*\u001b[0m\u001b[0mkey\u001b[0m\u001b[0;34m,\u001b[0m \u001b[0mtakeable\u001b[0m\u001b[0;34m=\u001b[0m\u001b[0mself\u001b[0m\u001b[0;34m.\u001b[0m\u001b[0m_takeable\u001b[0m\u001b[0;34m)\u001b[0m\u001b[0;34m\u001b[0m\u001b[0;34m\u001b[0m\u001b[0m\n\u001b[0;32m--> 925\u001b[0;31m             \u001b[0;32mreturn\u001b[0m \u001b[0mself\u001b[0m\u001b[0;34m.\u001b[0m\u001b[0m_getitem_tuple\u001b[0m\u001b[0;34m(\u001b[0m\u001b[0mkey\u001b[0m\u001b[0;34m)\u001b[0m\u001b[0;34m\u001b[0m\u001b[0;34m\u001b[0m\u001b[0m\n\u001b[0m\u001b[1;32m    926\u001b[0m         \u001b[0;32melse\u001b[0m\u001b[0;34m:\u001b[0m\u001b[0;34m\u001b[0m\u001b[0;34m\u001b[0m\u001b[0m\n\u001b[1;32m    927\u001b[0m             \u001b[0;31m# we by definition only have the 0th axis\u001b[0m\u001b[0;34m\u001b[0m\u001b[0;34m\u001b[0m\u001b[0;34m\u001b[0m\u001b[0m\n",
            "\u001b[0;32m/usr/local/lib/python3.7/dist-packages/pandas/core/indexing.py\u001b[0m in \u001b[0;36m_getitem_tuple\u001b[0;34m(self, tup)\u001b[0m\n\u001b[1;32m   1098\u001b[0m     \u001b[0;32mdef\u001b[0m \u001b[0m_getitem_tuple\u001b[0m\u001b[0;34m(\u001b[0m\u001b[0mself\u001b[0m\u001b[0;34m,\u001b[0m \u001b[0mtup\u001b[0m\u001b[0;34m:\u001b[0m \u001b[0mtuple\u001b[0m\u001b[0;34m)\u001b[0m\u001b[0;34m:\u001b[0m\u001b[0;34m\u001b[0m\u001b[0;34m\u001b[0m\u001b[0m\n\u001b[1;32m   1099\u001b[0m         \u001b[0;32mwith\u001b[0m \u001b[0msuppress\u001b[0m\u001b[0;34m(\u001b[0m\u001b[0mIndexingError\u001b[0m\u001b[0;34m)\u001b[0m\u001b[0;34m:\u001b[0m\u001b[0;34m\u001b[0m\u001b[0;34m\u001b[0m\u001b[0m\n\u001b[0;32m-> 1100\u001b[0;31m             \u001b[0;32mreturn\u001b[0m \u001b[0mself\u001b[0m\u001b[0;34m.\u001b[0m\u001b[0m_getitem_lowerdim\u001b[0m\u001b[0;34m(\u001b[0m\u001b[0mtup\u001b[0m\u001b[0;34m)\u001b[0m\u001b[0;34m\u001b[0m\u001b[0;34m\u001b[0m\u001b[0m\n\u001b[0m\u001b[1;32m   1101\u001b[0m \u001b[0;34m\u001b[0m\u001b[0m\n\u001b[1;32m   1102\u001b[0m         \u001b[0;31m# no multi-index, so validate all of the indexers\u001b[0m\u001b[0;34m\u001b[0m\u001b[0;34m\u001b[0m\u001b[0;34m\u001b[0m\u001b[0m\n",
            "\u001b[0;32m/usr/local/lib/python3.7/dist-packages/pandas/core/indexing.py\u001b[0m in \u001b[0;36m_getitem_lowerdim\u001b[0;34m(self, tup)\u001b[0m\n\u001b[1;32m    836\u001b[0m                 \u001b[0;31m# We don't need to check for tuples here because those are\u001b[0m\u001b[0;34m\u001b[0m\u001b[0;34m\u001b[0m\u001b[0;34m\u001b[0m\u001b[0m\n\u001b[1;32m    837\u001b[0m                 \u001b[0;31m#  caught by the _is_nested_tuple_indexer check above.\u001b[0m\u001b[0;34m\u001b[0m\u001b[0;34m\u001b[0m\u001b[0;34m\u001b[0m\u001b[0m\n\u001b[0;32m--> 838\u001b[0;31m                 \u001b[0msection\u001b[0m \u001b[0;34m=\u001b[0m \u001b[0mself\u001b[0m\u001b[0;34m.\u001b[0m\u001b[0m_getitem_axis\u001b[0m\u001b[0;34m(\u001b[0m\u001b[0mkey\u001b[0m\u001b[0;34m,\u001b[0m \u001b[0maxis\u001b[0m\u001b[0;34m=\u001b[0m\u001b[0mi\u001b[0m\u001b[0;34m)\u001b[0m\u001b[0;34m\u001b[0m\u001b[0;34m\u001b[0m\u001b[0m\n\u001b[0m\u001b[1;32m    839\u001b[0m \u001b[0;34m\u001b[0m\u001b[0m\n\u001b[1;32m    840\u001b[0m                 \u001b[0;31m# We should never have a scalar section here, because\u001b[0m\u001b[0;34m\u001b[0m\u001b[0;34m\u001b[0m\u001b[0;34m\u001b[0m\u001b[0m\n",
            "\u001b[0;32m/usr/local/lib/python3.7/dist-packages/pandas/core/indexing.py\u001b[0m in \u001b[0;36m_getitem_axis\u001b[0;34m(self, key, axis)\u001b[0m\n\u001b[1;32m   1162\u001b[0m         \u001b[0;31m# fall thru to straight lookup\u001b[0m\u001b[0;34m\u001b[0m\u001b[0;34m\u001b[0m\u001b[0;34m\u001b[0m\u001b[0m\n\u001b[1;32m   1163\u001b[0m         \u001b[0mself\u001b[0m\u001b[0;34m.\u001b[0m\u001b[0m_validate_key\u001b[0m\u001b[0;34m(\u001b[0m\u001b[0mkey\u001b[0m\u001b[0;34m,\u001b[0m \u001b[0maxis\u001b[0m\u001b[0;34m)\u001b[0m\u001b[0;34m\u001b[0m\u001b[0;34m\u001b[0m\u001b[0m\n\u001b[0;32m-> 1164\u001b[0;31m         \u001b[0;32mreturn\u001b[0m \u001b[0mself\u001b[0m\u001b[0;34m.\u001b[0m\u001b[0m_get_label\u001b[0m\u001b[0;34m(\u001b[0m\u001b[0mkey\u001b[0m\u001b[0;34m,\u001b[0m \u001b[0maxis\u001b[0m\u001b[0;34m=\u001b[0m\u001b[0maxis\u001b[0m\u001b[0;34m)\u001b[0m\u001b[0;34m\u001b[0m\u001b[0;34m\u001b[0m\u001b[0m\n\u001b[0m\u001b[1;32m   1165\u001b[0m \u001b[0;34m\u001b[0m\u001b[0m\n\u001b[1;32m   1166\u001b[0m     \u001b[0;32mdef\u001b[0m \u001b[0m_get_slice_axis\u001b[0m\u001b[0;34m(\u001b[0m\u001b[0mself\u001b[0m\u001b[0;34m,\u001b[0m \u001b[0mslice_obj\u001b[0m\u001b[0;34m:\u001b[0m \u001b[0mslice\u001b[0m\u001b[0;34m,\u001b[0m \u001b[0maxis\u001b[0m\u001b[0;34m:\u001b[0m \u001b[0mint\u001b[0m\u001b[0;34m)\u001b[0m\u001b[0;34m:\u001b[0m\u001b[0;34m\u001b[0m\u001b[0;34m\u001b[0m\u001b[0m\n",
            "\u001b[0;32m/usr/local/lib/python3.7/dist-packages/pandas/core/indexing.py\u001b[0m in \u001b[0;36m_get_label\u001b[0;34m(self, label, axis)\u001b[0m\n\u001b[1;32m   1111\u001b[0m     \u001b[0;32mdef\u001b[0m \u001b[0m_get_label\u001b[0m\u001b[0;34m(\u001b[0m\u001b[0mself\u001b[0m\u001b[0;34m,\u001b[0m \u001b[0mlabel\u001b[0m\u001b[0;34m,\u001b[0m \u001b[0maxis\u001b[0m\u001b[0;34m:\u001b[0m \u001b[0mint\u001b[0m\u001b[0;34m)\u001b[0m\u001b[0;34m:\u001b[0m\u001b[0;34m\u001b[0m\u001b[0;34m\u001b[0m\u001b[0m\n\u001b[1;32m   1112\u001b[0m         \u001b[0;31m# GH#5667 this will fail if the label is not present in the axis.\u001b[0m\u001b[0;34m\u001b[0m\u001b[0;34m\u001b[0m\u001b[0;34m\u001b[0m\u001b[0m\n\u001b[0;32m-> 1113\u001b[0;31m         \u001b[0;32mreturn\u001b[0m \u001b[0mself\u001b[0m\u001b[0;34m.\u001b[0m\u001b[0mobj\u001b[0m\u001b[0;34m.\u001b[0m\u001b[0mxs\u001b[0m\u001b[0;34m(\u001b[0m\u001b[0mlabel\u001b[0m\u001b[0;34m,\u001b[0m \u001b[0maxis\u001b[0m\u001b[0;34m=\u001b[0m\u001b[0maxis\u001b[0m\u001b[0;34m)\u001b[0m\u001b[0;34m\u001b[0m\u001b[0;34m\u001b[0m\u001b[0m\n\u001b[0m\u001b[1;32m   1114\u001b[0m \u001b[0;34m\u001b[0m\u001b[0m\n\u001b[1;32m   1115\u001b[0m     \u001b[0;32mdef\u001b[0m \u001b[0m_handle_lowerdim_multi_index_axis0\u001b[0m\u001b[0;34m(\u001b[0m\u001b[0mself\u001b[0m\u001b[0;34m,\u001b[0m \u001b[0mtup\u001b[0m\u001b[0;34m:\u001b[0m \u001b[0mtuple\u001b[0m\u001b[0;34m)\u001b[0m\u001b[0;34m:\u001b[0m\u001b[0;34m\u001b[0m\u001b[0;34m\u001b[0m\u001b[0m\n",
            "\u001b[0;32m/usr/local/lib/python3.7/dist-packages/pandas/core/generic.py\u001b[0m in \u001b[0;36mxs\u001b[0;34m(self, key, axis, level, drop_level)\u001b[0m\n\u001b[1;32m   3774\u001b[0m                 \u001b[0;32mraise\u001b[0m \u001b[0mTypeError\u001b[0m\u001b[0;34m(\u001b[0m\u001b[0;34mf\"Expected label or tuple of labels, got {key}\"\u001b[0m\u001b[0;34m)\u001b[0m \u001b[0;32mfrom\u001b[0m \u001b[0me\u001b[0m\u001b[0;34m\u001b[0m\u001b[0;34m\u001b[0m\u001b[0m\n\u001b[1;32m   3775\u001b[0m         \u001b[0;32melse\u001b[0m\u001b[0;34m:\u001b[0m\u001b[0;34m\u001b[0m\u001b[0;34m\u001b[0m\u001b[0m\n\u001b[0;32m-> 3776\u001b[0;31m             \u001b[0mloc\u001b[0m \u001b[0;34m=\u001b[0m \u001b[0mindex\u001b[0m\u001b[0;34m.\u001b[0m\u001b[0mget_loc\u001b[0m\u001b[0;34m(\u001b[0m\u001b[0mkey\u001b[0m\u001b[0;34m)\u001b[0m\u001b[0;34m\u001b[0m\u001b[0;34m\u001b[0m\u001b[0m\n\u001b[0m\u001b[1;32m   3777\u001b[0m \u001b[0;34m\u001b[0m\u001b[0m\n\u001b[1;32m   3778\u001b[0m             \u001b[0;32mif\u001b[0m \u001b[0misinstance\u001b[0m\u001b[0;34m(\u001b[0m\u001b[0mloc\u001b[0m\u001b[0;34m,\u001b[0m \u001b[0mnp\u001b[0m\u001b[0;34m.\u001b[0m\u001b[0mndarray\u001b[0m\u001b[0;34m)\u001b[0m\u001b[0;34m:\u001b[0m\u001b[0;34m\u001b[0m\u001b[0;34m\u001b[0m\u001b[0m\n",
            "\u001b[0;32m/usr/local/lib/python3.7/dist-packages/pandas/core/indexes/base.py\u001b[0m in \u001b[0;36mget_loc\u001b[0;34m(self, key, method, tolerance)\u001b[0m\n\u001b[1;32m   3361\u001b[0m                 \u001b[0;32mreturn\u001b[0m \u001b[0mself\u001b[0m\u001b[0;34m.\u001b[0m\u001b[0m_engine\u001b[0m\u001b[0;34m.\u001b[0m\u001b[0mget_loc\u001b[0m\u001b[0;34m(\u001b[0m\u001b[0mcasted_key\u001b[0m\u001b[0;34m)\u001b[0m\u001b[0;34m\u001b[0m\u001b[0;34m\u001b[0m\u001b[0m\n\u001b[1;32m   3362\u001b[0m             \u001b[0;32mexcept\u001b[0m \u001b[0mKeyError\u001b[0m \u001b[0;32mas\u001b[0m \u001b[0merr\u001b[0m\u001b[0;34m:\u001b[0m\u001b[0;34m\u001b[0m\u001b[0;34m\u001b[0m\u001b[0m\n\u001b[0;32m-> 3363\u001b[0;31m                 \u001b[0;32mraise\u001b[0m \u001b[0mKeyError\u001b[0m\u001b[0;34m(\u001b[0m\u001b[0mkey\u001b[0m\u001b[0;34m)\u001b[0m \u001b[0;32mfrom\u001b[0m \u001b[0merr\u001b[0m\u001b[0;34m\u001b[0m\u001b[0;34m\u001b[0m\u001b[0m\n\u001b[0m\u001b[1;32m   3364\u001b[0m \u001b[0;34m\u001b[0m\u001b[0m\n\u001b[1;32m   3365\u001b[0m         \u001b[0;32mif\u001b[0m \u001b[0mis_scalar\u001b[0m\u001b[0;34m(\u001b[0m\u001b[0mkey\u001b[0m\u001b[0;34m)\u001b[0m \u001b[0;32mand\u001b[0m \u001b[0misna\u001b[0m\u001b[0;34m(\u001b[0m\u001b[0mkey\u001b[0m\u001b[0;34m)\u001b[0m \u001b[0;32mand\u001b[0m \u001b[0;32mnot\u001b[0m \u001b[0mself\u001b[0m\u001b[0;34m.\u001b[0m\u001b[0mhasnans\u001b[0m\u001b[0;34m:\u001b[0m\u001b[0;34m\u001b[0m\u001b[0;34m\u001b[0m\u001b[0m\n",
            "\u001b[0;31mKeyError\u001b[0m: ''"
          ]
        }
      ],
      "source": [
        "if __name__ == '__main__':\n",
        "  main()"
      ]
    }
  ],
  "metadata": {
    "colab": {
      "collapsed_sections": [],
      "provenance": []
    },
    "kernelspec": {
      "display_name": "Python 3",
      "name": "python3"
    },
    "language_info": {
      "name": "python"
    }
  },
  "nbformat": 4,
  "nbformat_minor": 0
}